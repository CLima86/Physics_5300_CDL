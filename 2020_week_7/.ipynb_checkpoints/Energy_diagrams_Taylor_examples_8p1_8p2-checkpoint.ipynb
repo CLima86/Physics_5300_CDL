{
 "cells": [
  {
   "cell_type": "markdown",
   "metadata": {},
   "source": [
    "# Taylor examples 8.1 and 8.2"
   ]
  },
  {
   "cell_type": "code",
   "execution_count": null,
   "metadata": {},
   "outputs": [],
   "source": [
    "%matplotlib notebook\n",
    "\n",
    "import numpy as np\n",
    "import matplotlib.pyplot as plt"
   ]
  },
  {
   "cell_type": "code",
   "execution_count": null,
   "metadata": {},
   "outputs": [],
   "source": [
    "# Change the common font size\n",
    "font_size = 14\n",
    "plt.rcParams.update({'font.size': font_size})"
   ]
  },
  {
   "cell_type": "code",
   "execution_count": null,
   "metadata": {},
   "outputs": [],
   "source": [
    "class Potential:\n",
    "    \"\"\"\n",
    "    Potential for central force motion.\n",
    "    \"\"\"\n",
    "    \n",
    "    def __init__(self, ang_mom, gamma=1, mu=1):\n",
    "        self.ang_mom = ang_mom\n",
    "        self.gamma = gamma\n",
    "        self.mu = mu\n",
    "    \n",
    "    def U(self, r):\n",
    "        \"\"\"Potential energy of the form U = -gamma/r.\"\"\"\n",
    "        return -self.gamma / r\n",
    "    \n",
    "    def U_deriv(self, r):\n",
    "        \"\"\"dU/dr\"\"\"\n",
    "        return self.gamma / r**2\n",
    "    \n",
    "    def Ucf(self, r):\n",
    "        \"\"\"Centrifugal potential energy\"\"\"\n",
    "        return self.ang_mom**2 / (2. * self.mu * r**2)\n",
    "    \n",
    "    def Ucf_deriv(self, r):\n",
    "        \"\"\"dU_cf/dr\"\"\"\n",
    "        return -2. * self.ang_mom**2 / (2. * self.mu * r**3)\n",
    "    \n",
    "    def Ueff(self, r):\n",
    "        \"\"\"effective potential energy\"\"\"\n",
    "        return self.U(r) + self.Ucf(r)\n",
    "    \n",
    "    def Ueff_deriv(self, r):\n",
    "        \"\"\"dU_eff/dr\"\"\"\n",
    "        return self.U_deriv(r) + self.Ucf_deriv(r)\n",
    "    "
   ]
  },
  {
   "cell_type": "markdown",
   "metadata": {},
   "source": [
    "## Examples 8.1 and 8.2: Effective potential energy for a comet"
   ]
  },
  {
   "cell_type": "code",
   "execution_count": null,
   "metadata": {
    "scrolled": false
   },
   "outputs": [],
   "source": [
    "fig_1 = plt.figure(figsize=(12,4), num='Energy diagrams')\n",
    "\n",
    "gamma = 1.\n",
    "ang_mom = 2.\n",
    "p1 = Potential(ang_mom, gamma=gamma, mu=1)\n",
    "E1 = 3.\n",
    "\n",
    "ax_1 = fig_1.add_subplot(1,3,1)\n",
    "\n",
    "r_pts = np.linspace(0.001, 3., 200)\n",
    "U_pts = p1.U(r_pts)\n",
    "Ucf_pts = p1.Ucf(r_pts)\n",
    "Ueff_pts = p1.Ueff(r_pts)\n",
    "\n",
    "ax_1.plot(r_pts, U_pts, linestyle='dashed', color='blue', label='U(r)')\n",
    "ax_1.plot(r_pts, Ucf_pts, linestyle='dotted', color='green', label='U_cf(r)')\n",
    "ax_1.plot(r_pts, Ueff_pts, linestyle='solid', color='red', label='U_eff(r)')\n",
    "\n",
    "ax_1.set_xlim(0., 3.)\n",
    "ax_1.set_ylim(-10., 10.)\n",
    "ax_1.set_xlabel('r')\n",
    "ax_1.set_ylabel('U(r)')\n",
    "ax_1.set_title(f'$\\gamma = {gamma},\\ \\ l = {ang_mom}$')\n",
    "ax_1.legend(loc='upper center')\n",
    "\n",
    "ax_1.axhline(0.0, color='black', alpha=0.3)\n",
    "\n",
    "ax_1.axhline(E1, color='red', alpha=0.5)\n",
    "ax_1.annotate(r'$E_1$', (2.5,3.5), color='red', alpha=0.7)\n",
    "\n",
    "gamma = 3.\n",
    "ang_mom = 1.\n",
    "p2 = Potential(ang_mom, gamma=gamma, mu=1)\n",
    "\n",
    "E2 = -2.\n",
    "\n",
    "\n",
    "ax_2 = fig_1.add_subplot(1,3,2)\n",
    "\n",
    "r_pts = np.linspace(0.001, 3., 200)\n",
    "U_pts = p2.U(r_pts)\n",
    "Ucf_pts = p2.Ucf(r_pts)\n",
    "Ueff_pts = p2.Ueff(r_pts)\n",
    "\n",
    "ax_2.plot(r_pts, U_pts, linestyle='dashed', color='blue', label='U(r)')\n",
    "ax_2.plot(r_pts, Ucf_pts, linestyle='dotted', \n",
    "          color='green', label='U_cf(r)')\n",
    "ax_2.plot(r_pts, Ueff_pts, linestyle='solid', color='red', label='U_eff(r)')\n",
    "\n",
    "ax_2.set_xlim(0., 3.)\n",
    "ax_2.set_ylim(-10., 10.)\n",
    "ax_2.set_xlabel('r')\n",
    "ax_2.set_ylabel('U(r)')\n",
    "ax_2.set_title(f'$\\gamma = {gamma},\\ \\ l = {ang_mom}$')\n",
    "ax_2.legend(loc='upper center')\n",
    "\n",
    "ax_2.axhline(0.0, color='black', alpha=0.3)\n",
    "\n",
    "ax_2.axhline(E1, color='red', alpha=0.5)\n",
    "ax_2.axhline(E2, color='red', alpha=0.5)\n",
    "ax_2.annotate(r'$E_1$', (2.5,3.5), color='red', alpha=0.7)\n",
    "ax_2.annotate(r'$E_2$', (2.5,-3.2), color='red', alpha=0.7)\n",
    "\n",
    "fig_1.tight_layout()\n"
   ]
  },
  {
   "cell_type": "code",
   "execution_count": null,
   "metadata": {},
   "outputs": [],
   "source": []
  },
  {
   "cell_type": "code",
   "execution_count": null,
   "metadata": {},
   "outputs": [],
   "source": []
  }
 ],
 "metadata": {
  "kernelspec": {
   "display_name": "Python 3",
   "language": "python",
   "name": "python3"
  },
  "language_info": {
   "codemirror_mode": {
    "name": "ipython",
    "version": 3
   },
   "file_extension": ".py",
   "mimetype": "text/x-python",
   "name": "python",
   "nbconvert_exporter": "python",
   "pygments_lexer": "ipython3",
   "version": "3.6.9"
  }
 },
 "nbformat": 4,
 "nbformat_minor": 2
}
