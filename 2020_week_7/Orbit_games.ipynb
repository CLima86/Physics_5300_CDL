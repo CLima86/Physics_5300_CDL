{
 "cells": [
  {
   "cell_type": "markdown",
   "metadata": {},
   "source": [
    "# Orbit games\n",
    "\n",
    "We consider energy plots and orbital solutions in polar coordinates for the general potential energy\n",
    "\n",
    "$\\begin{align}\n",
    "   U(r) = k r^n\n",
    "\\end{align}$"
   ]
  },
  {
   "cell_type": "code",
   "execution_count": null,
   "metadata": {},
   "outputs": [],
   "source": [
    "import numpy as np\n",
    "import matplotlib.pyplot as plt\n",
    "from scipy.integrate import solve_ivp"
   ]
  },
  {
   "cell_type": "code",
   "execution_count": null,
   "metadata": {},
   "outputs": [],
   "source": [
    "# Change the common font size\n",
    "font_size = 14\n",
    "plt.rcParams.update({'font.size': font_size})"
   ]
  },
  {
   "cell_type": "code",
   "execution_count": null,
   "metadata": {},
   "outputs": [],
   "source": [
    "class Orbit:\n",
    "    \"\"\"\n",
    "    Potentials and associated differential equations for central force motion\n",
    "    with the potential U(r) = k r^n.\n",
    "    \"\"\"\n",
    "    \n",
    "    def __init__(self, ang_mom, n, k=1, mu=1):\n",
    "        self.ang_mom = ang_mom\n",
    "        self.n = n\n",
    "        self.k = k\n",
    "        self.mu = mu\n",
    "    \n",
    "    def U(self, r):\n",
    "        \"\"\"Potential energy of the form U = kr^n.\"\"\"\n",
    "        return self.k * r**self.n\n",
    "    \n",
    "    def Ucf(self, r):\n",
    "        \"\"\"Centrifugal potential energy\"\"\"\n",
    "        return self.ang_mom**2 / (2. * self.mu * r**2)\n",
    "    \n",
    "    def Ueff(self, r):\n",
    "        \"\"\"Effective potential energy\"\"\"\n",
    "        return self.U(r) + self.Ucf(r)\n",
    "    \n",
    "    def U_deriv(self, r):\n",
    "        \"\"\"dU/dr\"\"\"\n",
    "        return self.n * self.k * r**(self.n - 1)\n",
    "        \n",
    "    def Ucf_deriv(self, r):\n",
    "        \"\"\"dU_cf/dr\"\"\"\n",
    "        return -2. * self.ang_mom**2 / (2. * self.mu * r**3)\n",
    "        \n",
    "    def Ueff_deriv(self, r):\n",
    "        \"\"\"dU_eff/dr\"\"\"\n",
    "        return self.U_deriv(r) + self.Ucf_deriv(r)\n",
    "        \n",
    "    def dy_dt(self, t, y):\n",
    "        \"\"\"\n",
    "        This function returns the right-hand side of the diffeq: \n",
    "        [dr/dt d^2r/dt^2 dphi/dt]\n",
    "        \n",
    "        Parameters\n",
    "        ----------\n",
    "        t : float\n",
    "            time \n",
    "        y : float\n",
    "            3-component vector with y[0] = r(t), y[1] = dr/dt, y[2] = dphi/dt\n",
    "            \n",
    "        \"\"\"\n",
    "        return [ y[1], \n",
    "                -1./self.mu * self.Ueff_deriv(y[0]), \n",
    "                self.ang_mom / (self.mu * y[0]**2) ]\n",
    "    \n",
    "    \n",
    "    def solve_ode(self, t_pts, r_0, r_dot_0, phi_0, \n",
    "                  abserr=1.0e-8, relerr=1.0e-8):\n",
    "        \"\"\"\n",
    "        Solve the ODE given initial conditions.\n",
    "        For now use odeint, but we have the option to switch.\n",
    "        Specify smaller abserr and relerr to get more precision.\n",
    "        \"\"\"\n",
    "        y = [r_0, r_dot_0, phi_0]  \n",
    "        solution = solve_ivp(self.dy_dt, (t_pts[0], t_pts[-1]), \n",
    "                             y, t_eval=t_pts, \n",
    "                             atol=abserr, rtol=relerr)\n",
    "        r, r_dot, phi = solution.y\n",
    "        return r, r_dot, phi\n",
    "    \n",
    "    def energy(self, t_pts, r, r_dot):\n",
    "        \"\"\"Evaluate the energy as a function of time\"\"\"\n",
    "        return (self.mu/2.) * r_dot**2 + self.Ueff(r)"
   ]
  },
  {
   "cell_type": "code",
   "execution_count": null,
   "metadata": {},
   "outputs": [],
   "source": [
    "def start_stop_indices(t_pts, plot_start, plot_stop):\n",
    "    start_index = (np.fabs(t_pts-plot_start)).argmin()  # index in t_pts array \n",
    "    stop_index = (np.fabs(t_pts-plot_stop)).argmin()  # index in t_pts array \n",
    "    return start_index, stop_index"
   ]
  },
  {
   "cell_type": "markdown",
   "metadata": {},
   "source": [
    "# Gravity $n = -1$"
   ]
  },
  {
   "cell_type": "code",
   "execution_count": null,
   "metadata": {},
   "outputs": [],
   "source": [
    "n = -1\n",
    "k = -3. \n",
    "ang_mom = 1. \n",
    "o1 = Orbit(ang_mom, n=n, k=k, mu=1)\n",
    "\n",
    "fig_2 = plt.figure(figsize=(7,5))\n",
    "ax_2 = fig_2.add_subplot(1,1,1)\n",
    "\n",
    "r_pts = np.linspace(0.001, 3., 200)\n",
    "U_pts = o1.U(r_pts)\n",
    "Ucf_pts = o1.Ucf(r_pts)\n",
    "Ueff_pts = o1.Ueff(r_pts)\n",
    "\n",
    "ax_2.plot(r_pts, U_pts, linestyle='dashed', color='blue', label='U(r)')\n",
    "ax_2.plot(r_pts, Ucf_pts, linestyle='dotted', color='green', label='Ucf(r)')\n",
    "ax_2.plot(r_pts, Ueff_pts, linestyle='solid', color='red', label='Ueff(r)')\n",
    "\n",
    "ax_2.set_xlim(0., 3.)\n",
    "ax_2.set_ylim(-5., 5.)\n",
    "ax_2.set_xlabel('r')\n",
    "ax_2.set_ylabel('U(r)')\n",
    "ax_2.set_title(f'$n = {n},\\ \\ k = {k},\\ \\  l = {ang_mom}$')\n",
    "ax_2.legend(loc='upper center')\n",
    "\n",
    "ax_2.axhline(0., color='black', alpha=0.3)\n",
    "\n",
    "fig_2.tight_layout()\n",
    "\n",
    "fig_2.savefig('Gravitation_orbit_1.png')\n"
   ]
  },
  {
   "cell_type": "markdown",
   "metadata": {},
   "source": [
    "## Orbit (time dependence)"
   ]
  },
  {
   "cell_type": "markdown",
   "metadata": {},
   "source": [
    "We'll directly solve the equations for r(t) and phi(t)."
   ]
  },
  {
   "cell_type": "code",
   "execution_count": null,
   "metadata": {},
   "outputs": [],
   "source": [
    "# Plotting time \n",
    "t_start = 0.\n",
    "t_end = 10.\n",
    "delta_t = 0.01\n",
    "\n",
    "t_pts = np.arange(t_start, t_end+delta_t, delta_t)  \n",
    "\n",
    "# Initial conditions\n",
    "r_0 = 1.\n",
    "r_dot_0 = 0.\n",
    "phi_0 = 0.0\n",
    "r_pts, r_dot_pts, phi_pts = o1.solve_ode(t_pts, r_0, r_dot_0, phi_0)\n",
    "\n",
    "c = o1.ang_mom**2 / (np.abs(o1.k) * o1.mu)\n",
    "epsilon = c / r_0 - 1.\n",
    "energy_0 = o1.mu/2. * r_dot_0**2 + o1.Ueff(r_0)\n",
    "print(f'energy = {energy_0:.2f}')\n",
    "print(f'eccentricity = {epsilon:.2f}')"
   ]
  },
  {
   "cell_type": "code",
   "execution_count": null,
   "metadata": {},
   "outputs": [],
   "source": [
    "fig_4 = plt.figure(figsize=(8,8))\n",
    "\n",
    "overall_title = 'Gravitational orbit:  ' + \\\n",
    "                rf' $n = {o1.n},$' + \\\n",
    "                rf' $k = {o1.k:.1f},$' + \\\n",
    "                rf' $l = {o1.ang_mom:.1f},$' + \\\n",
    "                rf' $r_0 = {r_0:.1f},$' + \\\n",
    "                rf' $\\dot r_0 = {r_dot_0:.2f},$' + \\\n",
    "                rf' $\\phi_0 = {phi_0:.2f}$' + \\\n",
    "                '\\n'     # \\n means a new line (adds some space here)\n",
    "fig_4.suptitle(overall_title, va='baseline')\n",
    "\n",
    "ax_4a = fig_4.add_subplot(2,2,1)\n",
    "ax_4a.plot(t_pts, r_pts, color='black')\n",
    "ax_4a.set_xlabel(r'$t$')\n",
    "ax_4a.set_ylabel(r'$r$')\n",
    "ax_4a.set_title('Time dependence of radius')\n",
    "\n",
    "ax_4b = fig_4.add_subplot(2,2,2)\n",
    "ax_4b.plot(t_pts, phi_pts/(2.*np.pi), color='black')\n",
    "ax_4b.plot(t_pts, phi_pts/(2.*np.pi)%1, color='red')\n",
    "ax_4b.set_xlabel(r'$t$')\n",
    "ax_4b.set_ylabel(r'$\\phi/2\\pi$')\n",
    "ax_4b.set_title(r'Time dependence of $\\phi$')\n",
    "\n",
    "ax_4c = fig_4.add_subplot(2,2,3)\n",
    "ax_4c.plot(r_pts*np.cos(phi_pts), r_pts*np.sin(phi_pts), color='black')\n",
    "ax_4c.set_xlabel(r'$x$')\n",
    "ax_4c.set_ylabel(r'$y$')\n",
    "ax_4c.set_aspect(1)\n",
    "ax_4c.set_title('Cartesian plot')\n",
    "\n",
    "ax_4d = fig_4.add_subplot(2,2,4, polar=True)\n",
    "ax_4d.plot(phi_pts, r_pts, color='black')\n",
    "ax_4d.set_title('Polar plot', pad=20.)\n",
    "\n",
    "\n",
    "fig_4.tight_layout()\n",
    "\n"
   ]
  },
  {
   "cell_type": "markdown",
   "metadata": {},
   "source": [
    "## Energy versus time"
   ]
  },
  {
   "cell_type": "code",
   "execution_count": null,
   "metadata": {},
   "outputs": [],
   "source": [
    "E_tot_pts = o1.energy(t_pts, r_pts, r_dot_pts)\n",
    "E_tot_0 = E_tot_pts[0]\n",
    "E_tot_rel_pts = np.abs((E_tot_pts - E_tot_0)/E_tot_0)\n",
    "\n",
    "print(f'    t        E_tot        rel. error')\n",
    "for t, E_tot, E_tot_rel in zip(t_pts, E_tot_pts, E_tot_rel_pts):\n",
    "    print(f'{t:8.5f}  {E_tot:8.5e}  {E_tot_rel:12.4e}')"
   ]
  },
  {
   "cell_type": "code",
   "execution_count": null,
   "metadata": {},
   "outputs": [],
   "source": [
    "fig_5 = plt.figure(figsize=(6,6))\n",
    "\n",
    "overall_title = 'Gravitational orbit:  ' + \\\n",
    "                rf' $n = {o1.n},$' + \\\n",
    "                rf' $k = {o1.k:.1f},$' + \\\n",
    "                rf' $l = {o1.ang_mom:.1f},$' + \\\n",
    "                rf' $r_0 = {r_0:.1f},$' + \\\n",
    "                rf' $\\dot r_0 = {r_dot_0:.2f},$' + \\\n",
    "                rf' $\\phi_0 = {phi_0:.2f}$' + \\\n",
    "                '\\n'     # \\n means a new line (adds some space here)\n",
    "fig_5.suptitle(overall_title, va='baseline')\n",
    "\n",
    "ax_5a = fig_5.add_subplot(1,1,1)\n",
    "ax_5a.semilogy(t_pts, np.abs(E_tot_pts), color='black', label=r'$E(t)$')\n",
    "ax_5a.semilogy(t_pts, E_tot_rel_pts, color='red', label=r'$\\Delta E(t)$')\n",
    "ax_5a.set_xlabel(r'$t$')\n",
    "ax_5a.set_ylabel(r'Energy')\n",
    "ax_5a.set_title('Change in energy with time')\n",
    "ax_5a.legend(loc='lower right')\n",
    "\n",
    "fig_5.tight_layout()"
   ]
  },
  {
   "cell_type": "markdown",
   "metadata": {},
   "source": [
    "## Verifying the virial theorem numerically"
   ]
  },
  {
   "cell_type": "markdown",
   "metadata": {},
   "source": [
    "First a quick calculation with the current orbit:"
   ]
  },
  {
   "cell_type": "code",
   "execution_count": null,
   "metadata": {},
   "outputs": [],
   "source": [
    "t_range = t_pts[-1] - t_pts[0]\n",
    "U_pts = o1.U(r_pts)\n",
    "T_pts = o1.energy(t_pts, r_pts, r_dot_pts) - U_pts"
   ]
  },
  {
   "cell_type": "code",
   "execution_count": null,
   "metadata": {},
   "outputs": [],
   "source": [
    "from scipy.integrate import simps"
   ]
  },
  {
   "cell_type": "code",
   "execution_count": null,
   "metadata": {},
   "outputs": [],
   "source": [
    "T_avg = simps(T_pts, t_pts, delta_t) / t_range\n",
    "U_avg = simps(U_pts, t_pts, delta_t) / t_range\n",
    "print(f'<T> = {T_avg:.6f}, <U> = {U_avg:.6f}, n<U>/2 = {o1.n*U_avg/2:.6f}')"
   ]
  },
  {
   "cell_type": "markdown",
   "metadata": {},
   "source": [
    "Now a more complete study with different $n$ values and varying integration times:"
   ]
  },
  {
   "cell_type": "code",
   "execution_count": null,
   "metadata": {
    "scrolled": true
   },
   "outputs": [],
   "source": [
    "from scipy.integrate import simps\n",
    "\n",
    "# For simplicity, set the angular momentum to 1 and k to +2 or -2 with n*k > 0 \n",
    "n_values = (-1, 2, 3, 4, 7)   # different n values to test\n",
    "t_end_values = (10., 100., 1000.)  # integration max values to test\n",
    "k_magnitude = 2.\n",
    "\n",
    "# Time start and spacing\n",
    "t_start = 0.\n",
    "delta_t = 0.001\n",
    "\n",
    "# Initial conditions\n",
    "r_0 = 1.\n",
    "r_dot_0 = 0.\n",
    "phi_0 = 0.0\n",
    "ang_mom = 1.\n",
    "\n",
    "print(f' n    t_end     <T>        <U>        n<U>/2     |<T>-n<U>/2|/<T>')\n",
    "for n in n_values:\n",
    "    k = np.sign(n) * k_magnitude   # ensure that n*k > 0\n",
    "    o_now = Orbit(ang_mom, n=n, k=k, mu=1.)  # current orbit \n",
    "    for t_end in t_end_values:\n",
    "        t_pts = np.arange(t_start, t_end+delta_t, delta_t)  \n",
    "        r_pts, r_dot_pts, phi_pts = o_now.solve_ode(t_pts, r_0, \n",
    "                                                    r_dot_0, phi_0)\n",
    "\n",
    "        t_range = t_pts[-1] - t_pts[0]\n",
    "        # Generate the integrands to be averaged\n",
    "        U_pts = o_now.U(r_pts)\n",
    "        T_pts = o_now.energy(t_pts, r_pts, r_dot_pts) - U_pts\n",
    "        # Calculate the time averages from 0 to t_end\n",
    "        T_avg = simps(T_pts, t_pts, delta_t) / t_range\n",
    "        U_avg = simps(U_pts, t_pts, delta_t) / t_range\n",
    "\n",
    "        rel_error = np.fabs((T_avg - n*U_avg/2.) / T_avg)\n",
    "        print(f'{n:2.0f}   {t_end:5.0f}   {T_avg:9.6f}  {U_avg:9.6f} ',\n",
    "              f' {n*U_avg/2.:9.6f}       {rel_error:9.3e}')"
   ]
  },
  {
   "cell_type": "code",
   "execution_count": null,
   "metadata": {},
   "outputs": [],
   "source": []
  },
  {
   "cell_type": "code",
   "execution_count": null,
   "metadata": {},
   "outputs": [],
   "source": []
  }
 ],
 "metadata": {
  "kernelspec": {
   "display_name": "Python 3",
   "language": "python",
   "name": "python3"
  },
  "language_info": {
   "codemirror_mode": {
    "name": "ipython",
    "version": 3
   },
   "file_extension": ".py",
   "mimetype": "text/x-python",
   "name": "python",
   "nbconvert_exporter": "python",
   "pygments_lexer": "ipython3",
   "version": "3.6.9"
  }
 },
 "nbformat": 4,
 "nbformat_minor": 2
}
