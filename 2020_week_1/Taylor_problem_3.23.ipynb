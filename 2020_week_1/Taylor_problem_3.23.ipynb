{
 "cells": [
  {
   "cell_type": "markdown",
   "metadata": {},
   "source": [
    "#  Taylor problem 3.23\n",
    "\n",
    "last revised: 04-Jan-2020 by Dick Furnstahl [furnstahl.1@osu.edu]\n"
   ]
  },
  {
   "cell_type": "markdown",
   "metadata": {},
   "source": [
    "**This notebook is almost ready to go, except that the initial conditions and $\\Delta v$ are different from the problem statement and there is no statement to print the figure.  Fix these and you're done!**"
   ]
  },
  {
   "cell_type": "markdown",
   "metadata": {},
   "source": [
    "This is a conservation of momentum problem, which in the end lets us determine the trajectories of the two masses before and after the explosion.  How should we visualize that the center-of-mass of the pieces continues to follow the original parabolic path?"
   ]
  },
  {
   "cell_type": "markdown",
   "metadata": {},
   "source": [
    "Plan:\n",
    "1. Plot the original trajectory, also continued past the explosion time.\n",
    "2. Plot the two trajectories after the explosion.\n",
    "3. For some specified times of the latter two trajectories, connect the points and indicate the center of mass.\n",
    "\n",
    "The implementation here could certainly be improved!  Please make suggestions (and develop improved versions)."
   ]
  },
  {
   "cell_type": "code",
   "execution_count": 1,
   "metadata": {},
   "outputs": [],
   "source": [
    "%matplotlib inline\n",
    "import numpy as np\n",
    "import matplotlib.pyplot as plt"
   ]
  },
  {
   "cell_type": "markdown",
   "metadata": {},
   "source": [
    "First define some functions we think we will need.  The formulas are based on our paper-and-pencil work."
   ]
  },
  {
   "cell_type": "markdown",
   "metadata": {},
   "source": [
    "The trajectory starting from $t=0$ is:\n",
    "\n",
    "$\n",
    "\\begin{align}\n",
    "  x(t) &= x_0 + v_{x0} t  \\\\\n",
    "  y(t) &= y_0 + v_{y0} t - \\frac{1}{2} g t^2\n",
    "\\end{align}\n",
    "$"
   ]
  },
  {
   "cell_type": "code",
   "execution_count": 2,
   "metadata": {},
   "outputs": [],
   "source": [
    "def trajectory(x0, y0, vx0, vy0, t_pts, g=9.8):\n",
    "    \"\"\"Calculate the x(t) and y(t) trajectories for an array of times,\n",
    "        which must start with t=0.\n",
    "    \"\"\"\n",
    "    return x0 + vx0*t_pts, y0 + vy0*t_pts - g*t_pts**2/2. "
   ]
  },
  {
   "cell_type": "markdown",
   "metadata": {},
   "source": [
    "The velocity at the final time $t_f$ is:\n",
    "\n",
    "$\n",
    "\\begin{align}\n",
    "  v_{x}(t) &= v_{x0}  \\\\\n",
    "  v_{y}(t) &= v_{y0}  - g t_f\n",
    "\\end{align}\n",
    "$"
   ]
  },
  {
   "cell_type": "code",
   "execution_count": 3,
   "metadata": {},
   "outputs": [],
   "source": [
    "def final_velocity(vx0, vy0, t_pts, g=9.8):\n",
    "    \"\"\"Calculate the vx(t) and vy(t) at the end of an array of times t_pts\"\"\"\n",
    "    return vx0, vy0 - g*t_pts[-1]  # -1 gives the last element"
   ]
  },
  {
   "cell_type": "markdown",
   "metadata": {},
   "source": [
    "The center of mass of two particles at $(x_1, y_1)$ and $(x_2, y_2)$ is:\n",
    "\n",
    "$\n",
    "\\begin{align}\n",
    " x_{cm} &= \\frac{1}{2}(x_1 + x_2)  \\\\\n",
    " y_{cm} &= \\frac{1}{2}(y_1 + y_2)\n",
    "\\end{align}\n",
    "$"
   ]
  },
  {
   "cell_type": "code",
   "execution_count": 4,
   "metadata": {},
   "outputs": [],
   "source": [
    "def com_position(x1, y1, x2, y2):  \n",
    "    \"\"\"Find the center-of-mass (com) position given two positions (x,y).\"\"\"\n",
    "    return (x1 + x2)/2., (y1 + y2)/2."
   ]
  },
  {
   "cell_type": "markdown",
   "metadata": {},
   "source": [
    "**1. Calculate and plot the original trajectory up to the explosion.**"
   ]
  },
  {
   "cell_type": "code",
   "execution_count": 51,
   "metadata": {},
   "outputs": [],
   "source": [
    "# initial conditions\n",
    "x0_before, y0_before = [0., 0.]    # put the origin at the starting point\n",
    "vx0_before, vy0_before = [6., 3.]  # given in the problem statement\n",
    "g = 1.  # as recommended\n",
    "\n",
    "# Array of times to calculate the trajectory up to the explosion at t=4\n",
    "t_pts_before = np.array([5., 6., 7., 8., 9.])\n",
    "x_before, y_before = trajectory(x0_before, y0_before,\n",
    "                                vx0_before, vy0_before,\n",
    "                                t_pts_before, g)"
   ]
  },
  {
   "cell_type": "code",
   "execution_count": 52,
   "metadata": {},
   "outputs": [
    {
     "data": {
      "text/plain": [
       "Text(0,0.5,'y')"
      ]
     },
     "execution_count": 52,
     "metadata": {},
     "output_type": "execute_result"
    },
    {
     "data": {
      "image/png": "[encoded data removed]",
      "text/plain": [
       "<Figure size 432x288 with 1 Axes>"
      ]
     },
     "metadata": {
      "needs_background": "light"
     },
     "output_type": "display_data"
    }
   ],
   "source": [
    "fig = plt.figure()\n",
    "ax = fig.add_subplot(1,1,1)\n",
    "ax.plot(x_before, y_before, 'ro-')\n",
    "\n",
    "ax.set_xlabel('x')\n",
    "ax.set_ylabel('y')"
   ]
  },
  {
   "cell_type": "markdown",
   "metadata": {},
   "source": [
    "Does it make sense so far?  Note that we could use more intermediate points to make a more correct curve (rather than the piecewise straight lines) but this is fine at least for a first pass."
   ]
  },
  {
   "cell_type": "markdown",
   "metadata": {},
   "source": [
    "**2. Calculate and plot the two trajectories after the explosion.**\n",
    "\n",
    "For the second part of the trajectory, we reset our clock to $t=0$ because that is how our trajectory function is constructed.  We'll need initial positions and velocities of the pieces just after the explosion.  These are the final position of the combined piece before the explosion and the final velocity plus and minus $\\Delta \\mathbf{v}$.  We are told $\\Delta \\mathbf{v}$.   We have to figure out the final velocity before the explosion."
   ]
  },
  {
   "cell_type": "code",
   "execution_count": 53,
   "metadata": {},
   "outputs": [],
   "source": [
    "delta_v = np.array([1., 3.])   # change in velociy of one piece\n",
    "\n",
    "# reset time to 0 for calculating trajectories\n",
    "t_pts_after = np.array([0., 1., 2., 3., 4., 5., 6., 7., 8., 9.])\n",
    "# Also could have used np.arange(0.,6.,1.)\n",
    "\n",
    "x0_after = x_before[-1]   # -1 here means the last element of the array\n",
    "y0_after = y_before[-1]\n",
    "vxcm0_after, vycm0_after = final_velocity(vx0_before, vy0_before,\n",
    "                                          t_pts_before, g) \n",
    "# The _1 and _2 refer to the two pieces after the explosinon\n",
    "vx0_after_1 = vxcm0_after + delta_v[0]\n",
    "vy0_after_1 = vycm0_after + delta_v[1]\n",
    "vx0_after_2 = vxcm0_after - delta_v[0]\n",
    "vy0_after_2 = vycm0_after - delta_v[1]\n",
    "\n",
    "# Given the initial conditions after the explosion, we calculate trajectories\n",
    "x_after_1, y_after_1 = trajectory(x0_after, y0_after,\n",
    "                                  vx0_after_1, vy0_after_1,\n",
    "                                  t_pts_after, g)\n",
    "x_after_2, y_after_2 = trajectory(x0_after, y0_after,\n",
    "                                  vx0_after_2, vy0_after_2,\n",
    "                                  t_pts_after, g)\n",
    "# This is the center-of-mass trajectory\n",
    "xcm_after, ycm_after = trajectory(x0_after, y0_after,\n",
    "                                  vxcm0_after, vycm0_after,\n",
    "                                  t_pts_after, g)\n",
    "\n",
    "# These are calculated points of the center-of-mass\n",
    "xcm_pts, ycm_pts = com_position(x_after_1, y_after_1, x_after_2, y_after_2)"
   ]
  },
  {
   "cell_type": "code",
   "execution_count": 54,
   "metadata": {},
   "outputs": [
    {
     "data": {
      "image/png": "[encoded data removed]",
      "text/plain": [
       "<Figure size 432x288 with 1 Axes>"
      ]
     },
     "metadata": {
      "needs_background": "light"
     },
     "output_type": "display_data"
    }
   ],
   "source": [
    "fig = plt.figure()\n",
    "ax = fig.add_subplot(1,1,1)\n",
    "ax.plot(x_before, y_before, 'ro-', label='before explosion')\n",
    "ax.plot(x_after_1, y_after_1, 'go-', label='piece 1 after')\n",
    "ax.plot(x_after_2, y_after_2, 'bo-', label='piece 2 after')\n",
    "ax.plot(xcm_after, ycm_after, 'r--', label='original trajectory')\n",
    "ax.plot(xcm_pts, ycm_pts, 'o', color='black', label='center-of-mass of 1 and 2')\n",
    "for i in range(len(t_pts_after)):\n",
    "    ax.plot([x_after_1[i], x_after_2[i]],\n",
    "            [y_after_1[i], y_after_2[i]],\n",
    "            'k--'\n",
    "           )\n",
    "ax.set_xlabel('x')\n",
    "ax.set_ylabel('y')\n",
    "ax.legend();"
   ]
  },
  {
   "cell_type": "code",
   "execution_count": null,
   "metadata": {},
   "outputs": [],
   "source": []
  },
  {
   "cell_type": "code",
   "execution_count": null,
   "metadata": {},
   "outputs": [],
   "source": []
  }
 ],
 "metadata": {
  "kernelspec": {
   "display_name": "Python 3",
   "language": "python",
   "name": "python3"
  },
  "language_info": {
   "codemirror_mode": {
    "name": "ipython",
    "version": 3
   },
   "file_extension": ".py",
   "mimetype": "text/x-python",
   "name": "python",
   "nbconvert_exporter": "python",
   "pygments_lexer": "ipython3",
   "version": "3.7.2"
  }
 },
 "nbformat": 4,
 "nbformat_minor": 2
}
