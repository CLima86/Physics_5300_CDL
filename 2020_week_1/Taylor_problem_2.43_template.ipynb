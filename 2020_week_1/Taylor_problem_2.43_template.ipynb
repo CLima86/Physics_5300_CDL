{
 "cells": [
  {
   "cell_type": "markdown",
   "metadata": {},
   "source": [
    "# Taylor problem 2.43\n",
    "\n",
    "last revised: 08-Jan-2019 by Dick Furnstahl [furnstahl.1@osu.edu]"
   ]
  },
  {
   "cell_type": "markdown",
   "metadata": {},
   "source": [
    "**Go through and fill in the blanks where ### appears.**"
   ]
  },
  {
   "cell_type": "markdown",
   "metadata": {},
   "source": [
    "The goal of this problem is to plot the trajectory of a basketball with specified parameters, with and without air resistance.  From the plot we are to find how far the basketball travels horizontally in the two cases before hitting the floor.  \n",
    "\n",
    "The differential equations to solve are equation (2.61) in Taylor:\n",
    "\n",
    "$\n",
    "\\begin{align}\n",
    "    m \\ddot x &= - c \\sqrt{\\dot x^2 + \\dot y^2}\\, \\dot x  \\\\\n",
    "    m \\ddot y &= - mg - c \\sqrt{\\dot x^2 + \\dot y^2}\\, \\dot y  \n",
    "\\end{align}\n",
    "$\n",
    "\n",
    "where the initial conditions we are given (in meters) are:\n",
    "\n",
    "$\n",
    "\\begin{align}\n",
    "   x(0) &= 0 \\;, & y(0) &= 2  \\\\\n",
    "   \\dot x(0) &= 15 \\cos \\pi/4 \\;, & \\dot y(0) &= 15\\sin \\pi/4\n",
    "\\end{align}\n",
    "$\n",
    "\n",
    "and $c = \\gamma D^2$ with $\\gamma = 0.25$ and $D = 0.24\\,$m."
   ]
  },
  {
   "cell_type": "markdown",
   "metadata": {},
   "source": [
    "### Gameplan:\n",
    "\n",
    "We'll follow the treatment at the end of Taylor_problem_1.39.ipynb.  So we rewrite the coupled 2nd-order differential equations $x(t)$ and $y(t)$ as four coupled 1st-order differential equations for $x(t)$, $y(t)$, $v_x(t)$, and $v_y(t)$:\n",
    "\n",
    "$\n",
    "\\begin{align}\n",
    "   \\frac{d}{dt}\\left(\\begin{array}{c}\n",
    "                          \\mathbf{x} \\\\\n",
    "                          \\mathbf{v}\n",
    "                      \\end{array}\\right)\n",
    "               = \\left(\\begin{array}{c}\n",
    "                          \\mathbf{v} \\\\\n",
    "                          \\mathbf{F}/m\n",
    "                       \\end{array}\\right)\n",
    "      \\qquad \\Longrightarrow \\qquad\n",
    "   \\frac{d}{dt}\\left(\\begin{array}{c}\n",
    "                          x \\\\\n",
    "                          y \\\\\n",
    "                          v_x \\\\\n",
    "                          v_y\n",
    "                      \\end{array}\\right)\n",
    "               = \\left(\\begin{array}{c}\n",
    "                          v_x \\\\\n",
    "                          v_y \\\\\n",
    "                          F_x/m \\\\\n",
    "                          F_y/m\n",
    "                       \\end{array}\\right)\n",
    "\\end{align}\n",
    "$"
   ]
  },
  {
   "cell_type": "code",
   "execution_count": 79,
   "metadata": {},
   "outputs": [],
   "source": [
    "### Import what you need to make arrays, to make plots, and to use odeint.\n",
    "import numpy as np\n",
    "import matplotlib.pyplot as plt\n",
    "from scipy.integrate import odeint  \n",
    "from scipy.integrate import solve_ivp"
   ]
  },
  {
   "cell_type": "code",
   "execution_count": 105,
   "metadata": {},
   "outputs": [],
   "source": [
    "def ode_rhs(u_vec, t, *params):\n",
    "    \"\"\" \n",
    "    Right-hand side (rhs) of the differential equation, with \n",
    "    u_vec = [x, y, v_x, v_y] and params = [m, g, c].\n",
    "    \"\"\"\n",
    "    x, y, v_x, v_y = u_vec  \n",
    "    m, g, c = params\n",
    "    return [v_x, v_y\n",
    "            , -c/m * np.sqrt(v_x**2 + v_y**2) * v_x \n",
    "            ,-g -(c/m) * np.sqrt(v_x**2 + v_y**2) * v_y]"
   ]
  },
  {
   "cell_type": "code",
   "execution_count": 106,
   "metadata": {},
   "outputs": [],
   "source": [
    "m = 0.6      # units: kg\n",
    "g = 9.8      # units: m/s^2\n",
    "gamma = 0.25 # units: N s^2/m^4\n",
    "D = 0.24     # units: m\n",
    "c = gamma * D**2\n",
    "\n",
    "theta = np.pi/4.  # angle of launch\n",
    "v0 = 15.          # launch speed\n",
    "\n",
    "# set the initial conditions\n",
    "u0_vec = [0, 2, v0*np.cos(theta), v0*np.cos(theta) ]  ### complete the initial conditions\n",
    "\n",
    "t_max = 3.  # integration time\n",
    "t_pts = np.arange(-0.5, 3.)  ### create a suitable array of t values\n",
    "\n",
    "# absolute and relative tolerances for ode solver\n",
    "abserr = 1.0e-8\n",
    "relerr = 1.0e-6\n",
    "\n",
    "# Integrate the differential equation\n",
    "#  Note the use of T here to take the *transpose* to change a \n",
    "#  (# points) by 4 array to a 4 by (# points) array.\n",
    "x, y, v_x, v_y = odeint(ode_rhs, u0_vec, t_pts, args=(m, g, c), \n",
    "                        atol=abserr, rtol=relerr).T"
   ]
  },
  {
   "cell_type": "markdown",
   "metadata": {},
   "source": [
    "Check the shape (i.e., dimensions) of the output from odeint:"
   ]
  },
  {
   "cell_type": "code",
   "execution_count": 107,
   "metadata": {
    "scrolled": true
   },
   "outputs": [
    {
     "data": {
      "text/plain": [
       "(4, 4)"
      ]
     },
     "execution_count": 107,
     "metadata": {},
     "output_type": "execute_result"
    }
   ],
   "source": [
    "(odeint(ode_rhs, u0_vec, t_pts, args=(m, g, c), \n",
    "                        atol=abserr, rtol=relerr)).shape"
   ]
  },
  {
   "cell_type": "code",
   "execution_count": 108,
   "metadata": {},
   "outputs": [
    {
     "data": {
      "text/plain": [
       "(4, 4)"
      ]
     },
     "execution_count": 108,
     "metadata": {},
     "output_type": "execute_result"
    }
   ],
   "source": [
    "(odeint(ode_rhs, u0_vec, t_pts, args=(m, g, c), \n",
    "                        atol=abserr, rtol=relerr).T).shape"
   ]
  },
  {
   "cell_type": "markdown",
   "metadata": {},
   "source": [
    "Define a function for the trajectory in vacuum, using the analytic formula:"
   ]
  },
  {
   "cell_type": "code",
   "execution_count": 109,
   "metadata": {},
   "outputs": [],
   "source": [
    "### Just check that this makes sense\n",
    "def vacuum_trajectory(u0_vec, t_pts, g=9.8):\n",
    "    \"\"\"Given the initial condition vector and an array of time values,\n",
    "       return the trajectory (x and y arrays) in the vacuum, using the\n",
    "       exact solution.\n",
    "    \"\"\"\n",
    "    x0, y0, v0_x, v0_y = u0_vec \n",
    "    return v0_x * t_pts, \\\n",
    "           y0 + v0_y * t_pts - g * t_pts**2/2.\n",
    "\n",
    "# create arrays for the vaccum trajectory (using default for g)    \n",
    "x_vac, y_vac = vacuum_trajectory(u0_vec, t_pts)"
   ]
  },
  {
   "cell_type": "markdown",
   "metadata": {},
   "source": [
    "Make a plot with and without drag:"
   ]
  },
  {
   "cell_type": "code",
   "execution_count": 110,
   "metadata": {},
   "outputs": [
    {
     "data": {
      "text/plain": [
       "<matplotlib.legend.Legend at 0x151abb5e10>"
      ]
     },
     "execution_count": 110,
     "metadata": {},
     "output_type": "execute_result"
    },
    {
     "data": {
      "image/png": "[encoded data removed]",
      "text/plain": [
       "<Figure size 432x288 with 1 Axes>"
      ]
     },
     "metadata": {
      "needs_background": "light"
     },
     "output_type": "display_data"
    }
   ],
   "source": [
    "fig = plt.figure(figsize=(6,4))\n",
    "ax = fig.add_subplot(1,1,1)\n",
    "ax.plot(x, y, 'b-', label='air resistance', )\n",
    "ax.plot(x_vac, y_vac, 'r--', label='vacuum', )\n",
    "ax.set_ylim(-0.5, 20.)    ### set appropriate limits on the y-axis\n",
    "ax.set_xlim(0, 30.)    ### set appropriate limits on the x-axis\n",
    "ax.set_xlabel('x (m)')\n",
    "ax.set_ylabel('y (m)')\n",
    "\n",
    "ax.legend()\n",
    "### add a line to save this figure"
   ]
  },
  {
   "cell_type": "markdown",
   "metadata": {},
   "source": [
    "We can read off rough values for the distances where the ball hits the ground.  Or we can find the closest values to zero in the arrays for `y` and `y_vac` and look up the value of `x` and `x_vac` at the same array index: "
   ]
  },
  {
   "cell_type": "code",
   "execution_count": 60,
   "metadata": {},
   "outputs": [
    {
     "name": "stdout",
     "output_type": "stream",
     "text": [
      "distance with drag = 0.00\n",
      "distance in vacuum = 26.52\n"
     ]
    }
   ],
   "source": [
    "# Note the use of fabs(y), which is |y|, to get closest to\n",
    "#  zero instead of the most negative value of y.\n",
    "index_y_min = (np.fabs(y)).argmin() # finds nearest index to minimum of |y|\n",
    "print(f'distance with drag = {x[index_y_min]:.2f}' )\n",
    "\n",
    "index_y_vac_min = (np.fabs(y_vac)).argmin() # finds nearest index to minimum of |y|\n",
    "print(f'distance in vacuum = {x_vac[index_y_vac_min]:.2f}' )\n"
   ]
  },
  {
   "cell_type": "markdown",
   "metadata": {},
   "source": [
    "**What change could you make to get a better estimate with the same method?**"
   ]
  },
  {
   "cell_type": "code",
   "execution_count": null,
   "metadata": {},
   "outputs": [],
   "source": []
  }
 ],
 "metadata": {
  "kernelspec": {
   "display_name": "Python 3",
   "language": "python",
   "name": "python3"
  },
  "language_info": {
   "codemirror_mode": {
    "name": "ipython",
    "version": 3
   },
   "file_extension": ".py",
   "mimetype": "text/x-python",
   "name": "python",
   "nbconvert_exporter": "python",
   "pygments_lexer": "ipython3",
   "version": "3.7.2"
  }
 },
 "nbformat": 4,
 "nbformat_minor": 2
}
