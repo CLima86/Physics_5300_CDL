{
 "cells": [
  {
   "cell_type": "markdown",
   "metadata": {},
   "source": [
    "#  Taylor problem 5.32\n",
    "\n",
    "last revised: 12-Jan-2019 by Dick Furnstahl [furnstahl.1@osu.edu]\n"
   ]
  },
  {
   "cell_type": "markdown",
   "metadata": {},
   "source": [
    "**Replace ### by appropriate expressions.**"
   ]
  },
  {
   "cell_type": "markdown",
   "metadata": {},
   "source": [
    "The equation for an underdamped oscillator, such as a mass on the end of a spring, takes the form \n",
    "\n",
    "$\\begin{align}\n",
    "  x(t) = e^{-\\beta t} [B_1 \\cos(\\omega_1 t) + B_2 \\sin(\\omega_1 t)]\n",
    "\\end{align}$\n",
    "\n",
    "where\n",
    "\n",
    "$\\begin{align}\n",
    "  \\omega_1 = \\sqrt{\\omega_0^2 - \\beta^2}\n",
    "\\end{align}$\n",
    "\n",
    "and the mass is released from rest at position $x_0$ at $t=0$.\n"
   ]
  },
  {
   "cell_type": "markdown",
   "metadata": {},
   "source": [
    "**Goal: plot $x(t)$ for $0 \\leq t \\leq 20$, with $x_0 = 1$, $\\omega_0=1$, and $\\beta = 0.$, 0.02, 0.1, 0.3, and 1.**"
   ]
  },
  {
   "cell_type": "code",
   "execution_count": 1,
   "metadata": {},
   "outputs": [],
   "source": [
    "import numpy as np\n",
    "import matplotlib.pyplot as plt"
   ]
  },
  {
   "cell_type": "code",
   "execution_count": 10,
   "metadata": {},
   "outputs": [],
   "source": [
    "def underdamped(t, beta, omega_0=1, x_0=1):\n",
    "    \"\"\"Solution x(t) for an underdamped harmonic oscillator.\"\"\"\n",
    "    omega_1 = np.sqrt(omega_0**2 - beta**2)\n",
    "    B_1 = 2\n",
    "    B_2 = 5\n",
    "    return np.exp(-beta*t) \\\n",
    "             * ( B_1 * np.cos(omega_1*t) + B_2 * np.sin(omega_1*t) )"
   ]
  },
  {
   "cell_type": "code",
   "execution_count": 11,
   "metadata": {
    "scrolled": false
   },
   "outputs": [
    {
     "data": {
      "image/png": "[encoded data removed]",
      "text/plain": [
       "<Figure size 720x432 with 5 Axes>"
      ]
     },
     "metadata": {
      "needs_background": "light"
     },
     "output_type": "display_data"
    }
   ],
   "source": [
    "t_pts = np.arange(0., 20., .01)\n",
    "betas = [0., 0.02, 0.1, 0.3, 0.9999]\n",
    "\n",
    "fig = plt.figure(figsize=(10,6))\n",
    "# look up \"python enumerate\" to find out how this works!\n",
    "for i, beta in enumerate(betas):\n",
    "    ax = fig.add_subplot(2, 3, i+1)\n",
    "    ax.plot(t_pts, underdamped(t_pts, beta), color='blue') \n",
    "    ax.set_title(rf'$\\beta = {beta:.2f}$')\n",
    "    ax.set_xlabel('t')\n",
    "    ax.set_ylabel('x(t)')\n",
    "    ax.set_ylim(-1.1,1.1)\n",
    "    ax.axhline(0., color='black', alpha=0.3)  # lightened black zero line\n",
    "    \n",
    "fig.tight_layout()\n",
    "### add code to print the figure"
   ]
  },
  {
   "cell_type": "markdown",
   "metadata": {},
   "source": [
    "## Bonus: Widgetized!"
   ]
  },
  {
   "cell_type": "code",
   "execution_count": 12,
   "metadata": {},
   "outputs": [
    {
     "data": {
      "application/vnd.jupyter.widget-view+json": {
       "model_id": "0f776dfe28784f5aac6e59a60c5cd882",
       "version_major": 2,
       "version_minor": 0
      },
      "text/plain": [
       "interactive(children=(FloatSlider(value=0.0, continuous_update=False, description='beta', max=0.9999, step=0.0…"
      ]
     },
     "metadata": {},
     "output_type": "display_data"
    }
   ],
   "source": [
    "from ipywidgets import interact, fixed\n",
    "import ipywidgets as widgets\n",
    "\n",
    "omega_0 = 1.\n",
    "\n",
    "def plot_beta(beta):\n",
    "    \"\"\"Plot function for underdamped harmonic oscillator.\"\"\"\n",
    "    t_pts = np.arange(0., 20., .01)\n",
    "\n",
    "    fig = plt.figure()\n",
    "    ax = fig.add_subplot(1,1,1)\n",
    "    ax.plot(t_pts, underdamped(t_pts, beta), color='blue') \n",
    "    ax.set_title(rf'$\\beta = {beta:.2f}$')\n",
    "    ax.set_xlabel('t')\n",
    "    ax.set_ylabel('x(t)')\n",
    "    ax.set_ylim(-1.1,1.1)\n",
    "    ax.axhline(0., color='black', alpha=0.3)\n",
    "    \n",
    "    fig.tight_layout()\n",
    " \n",
    "max_value = omega_0 - 0.0001\n",
    "interact(plot_beta, \n",
    "         beta=widgets.FloatSlider(min=0., max=max_value, step=0.01,\n",
    "                                  value=0., readout_format='.2f',\n",
    "                                  continuous_update=False));\n",
    "    "
   ]
  },
  {
   "cell_type": "markdown",
   "metadata": {},
   "source": [
    "Now let's allow for complex numbers!  This will enable us to take $\\beta > \\omega_0$."
   ]
  },
  {
   "cell_type": "code",
   "execution_count": 13,
   "metadata": {},
   "outputs": [],
   "source": [
    "# numpy.lib.scimath version of sqrt handles complex numbers.\n",
    "#  numpy exp, cos, and sin already can.\n",
    "import numpy.lib.scimath as smath\n",
    "\n",
    "def all_beta(t, beta, omega_0=1, x_0=1):\n",
    "    \"\"\"Solution x(t) for damped harmonic oscillator, allowing for overdamped\n",
    "        as well as underdamped solution.\n",
    "    \"\"\"\n",
    "    omega_1 = smath.sqrt(omega_0**2 - beta**2)\n",
    "    return np.real( x_0 * np.exp(-beta*t) \\\n",
    "               * (np.cos(omega_1*t) + (beta/omega_1)*np.sin(omega_1*t)) )"
   ]
  },
  {
   "cell_type": "code",
   "execution_count": 14,
   "metadata": {},
   "outputs": [
    {
     "data": {
      "application/vnd.jupyter.widget-view+json": {
       "model_id": "f3b79979517f41c384eb59e3c81d5823",
       "version_major": 2,
       "version_minor": 0
      },
      "text/plain": [
       "interactive(children=(FloatSlider(value=0.0, continuous_update=False, description='beta', max=2.0, step=0.01),…"
      ]
     },
     "metadata": {},
     "output_type": "display_data"
    }
   ],
   "source": [
    "from ipywidgets import interact, fixed\n",
    "import ipywidgets as widgets\n",
    "\n",
    "omega_0 = 1.\n",
    "\n",
    "def plot_all_beta(beta):\n",
    "    \"\"\"Plot of x(t) for damped harmonic oscillator, allowing for overdamped\n",
    "       as well as underdamped cases.\"\"\"\n",
    "    t_pts = np.arange(0., 20., .01)\n",
    "\n",
    "    fig = plt.figure()\n",
    "    ax = fig.add_subplot(1,1,1)\n",
    "    ax.plot(t_pts, all_beta(t_pts, beta), color='blue') \n",
    "    ax.set_title(rf'$\\beta = {beta:.2f}$')\n",
    "    ax.set_xlabel('t')\n",
    "    ax.set_ylabel('x(t)')\n",
    "    ax.set_ylim(-1.1,1.1)\n",
    "    ax.axhline(0., color='black', alpha=0.3)\n",
    "    \n",
    "    fig.tight_layout()\n",
    " \n",
    "interact(plot_all_beta, \n",
    "         beta=widgets.FloatSlider(min=0., max=2, step=0.01,\n",
    "                                  value=0., readout_format='.2f',\n",
    "                                  continuous_update=False));\n",
    "    "
   ]
  },
  {
   "cell_type": "code",
   "execution_count": null,
   "metadata": {},
   "outputs": [],
   "source": []
  }
 ],
 "metadata": {
  "kernelspec": {
   "display_name": "Python 3",
   "language": "python",
   "name": "python3"
  },
  "language_info": {
   "codemirror_mode": {
    "name": "ipython",
    "version": 3
   },
   "file_extension": ".py",
   "mimetype": "text/x-python",
   "name": "python",
   "nbconvert_exporter": "python",
   "pygments_lexer": "ipython3",
   "version": "3.7.2"
  }
 },
 "nbformat": 4,
 "nbformat_minor": 2
}
