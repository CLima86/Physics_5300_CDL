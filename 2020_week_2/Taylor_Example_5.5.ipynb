{
 "cells": [
  {
   "cell_type": "markdown",
   "metadata": {},
   "source": [
    "#  Taylor Examples 5.4 and 5.5\n",
    "\n",
    "last revised: 17-Jan-2019 by Dick Furnstahl [furnstahl.1@osu.edu]\n"
   ]
  },
  {
   "cell_type": "markdown",
   "metadata": {},
   "source": [
    "Here we are exploring the Fourier series for a waveform defined to be even about the origin, so $f(-t) = +f(t)$, with period $\\tau$.  That means that the integrand for the $b_m$ coefficients is odd and so all of the corresponding integrals vanish.  \n",
    "\n",
    "The particular wave of interest here is a periodic rectangular pulse, such that in the interval $-\\tau/2 \\leq t \\leq \\tau/2$, the function takes the form:\n",
    "\n",
    "$\\newcommand{\\fmax}{f_{\\textrm{max}}}$\n",
    "$\\begin{align}\n",
    "  f(t) = \\left\\{ \\begin{array}{lc}\n",
    "                   \\fmax & -\\Delta\\tau/2 < t < \\Delta\\tau/2 \\\\\n",
    "                   0 & |t| > \\Delta\\tau/2 \n",
    "                 \\end{array}\n",
    "                   \\right.\n",
    "\\end{align}$\n",
    "\n",
    "As usual, we do the $a_0$ integral separately and then $a_m$ for $m \\geq 1$.  Here $\\omega \\equiv 2\\pi/\\tau$.  The results are (also see the text):\n",
    "\n",
    "$\\begin{align}\n",
    "  a_0 = \\frac{1}{\\tau} \\int_{-\\tau/2}^{\\tau/2} f(t)\\, dt = \\frac{\\fmax\\Delta\\tau}{\\tau}\n",
    "\\end{align}$\n",
    "\n",
    "$\\begin{align}\n",
    "  a_m = \\frac{2}{\\tau} \\int_{-\\tau/2}^{\\tau/2} \\cos(m\\omega t) f(t)\\, dt = \n",
    "      \\frac{4\\fmax}{\\tau} \\int_0^{\\Delta\\tau/2} \\cos(2\\pi m t/\\tau) \\, dt \n",
    "    %  &= - \\frac{2\\fmax}{m\\pi}\\left[\\cos(m\\pi t)\\right]^1_0 \\\\\n",
    "      =\n",
    "        \\frac{2 \\fmax}{m\\pi} \\sin\\left(\\frac{\\pi m \\Delta\\tau}{\\tau}\\right)\n",
    "\\end{align}$\n"
   ]
  },
  {
   "cell_type": "markdown",
   "metadata": {},
   "source": [
    "## Define the functions we'll need"
   ]
  },
  {
   "cell_type": "code",
   "execution_count": 1,
   "metadata": {},
   "outputs": [],
   "source": [
    "import numpy as np\n",
    "import matplotlib.pyplot as plt\n",
    "from scipy.integrate import quad"
   ]
  },
  {
   "cell_type": "markdown",
   "metadata": {},
   "source": [
    "We start by defining a function for the rectangular pulse at any $t$.  The definition here is for a scalar function.  That is, it won't work to call it with $t$ and array of time points, unlike other functions we have defined.  It is possible to make it work, but then the function will be much less clear.  When we need to evaluate it for all elements of an array `t_pts`, we will use the construction: <br/> `np.array([rectangular(t) for t in t_pts])`."
   ]
  },
  {
   "cell_type": "code",
   "execution_count": 2,
   "metadata": {},
   "outputs": [],
   "source": [
    "def rectangular(t, tau=1., Delta_tau=0.25, f_max=1.):\n",
    "    \"\"\"Returns the triangular wave of amplitude f_max and even about the \n",
    "        origin at time t.  The period is tau.  It is defined as a scalar \n",
    "        function (i.e., only one value of t can be passed at a time). \n",
    "        **There must be a better way to define this!**\n",
    "    \"\"\"\n",
    "    t_adjust = t - round(t)  # shift t so we can test for being within Delta_tau\n",
    "        \n",
    "    if np.fabs(t_adjust) < Delta_tau/2.:\n",
    "        return f_max\n",
    "    else:\n",
    "        return 0. "
   ]
  },
  {
   "cell_type": "markdown",
   "metadata": {},
   "source": [
    "Now a function that creates an array of Fourier coefficients for the triangular wave up to order N_max."
   ]
  },
  {
   "cell_type": "code",
   "execution_count": 3,
   "metadata": {},
   "outputs": [],
   "source": [
    "def rectangular_coeffs_by_hand(N_max, tau=1., Delta_tau=0.25, f_max=1):\n",
    "    \"\"\"Fourier coefficients calculated by hand and loaded into an array\n",
    "        as pairs in the form (a_n, b_n).  \n",
    "    \"\"\"\n",
    "    # initialize the array with the vaues of a_0 and b_0\n",
    "    coeffs_array = [(f_max * Delta_tau / tau, 0)]   \n",
    "    for n in np.arange(1, N_max, 1):\n",
    "        # these are pre-calcualated values of a_n and b_n\n",
    "        a_n = 2.*f_max/(n * np.pi) * np.sin((np.pi * n * Delta_tau) / tau)\n",
    "        b_n = 0.\n",
    "        coeffs_array.append((a_n, b_n))  # add them to the end of the array   \n",
    "    return np.array(coeffs_array)  # convert to a numpy array to be safe\n"
   ]
  },
  {
   "cell_type": "markdown",
   "metadata": {},
   "source": [
    "We would like a general way to construct the array of Fourier coefficients given any periodic function.  Our first pass at that uses a class definition and the scipy integration function quad. "
   ]
  },
  {
   "cell_type": "code",
   "execution_count": 4,
   "metadata": {},
   "outputs": [],
   "source": [
    "class FourierSeries():\n",
    "    \"\"\"\n",
    "    Fourier series class finds the coefficients in a Fourier series with\n",
    "    period tau up to a specified order.\n",
    "    Assume these imports:\n",
    "        from scipy.integrate import quad\n",
    "        import numpy as np\n",
    "    ***Need to add args to the function.***     \n",
    "    \"\"\"\n",
    "    def __init__(self,\n",
    "                 function,\n",
    "                 tau=1.,\n",
    "                 N_max=10\n",
    "                ):\n",
    "        self.function = function\n",
    "        self.tau = tau\n",
    "        self.omega = 2. * np.pi / tau    \n",
    "        self.N_max = N_max\n",
    "        # add something to quit if Nmax < 0 or not an integer (try and except)\n",
    "\n",
    "    def a0_calc(self):\n",
    "        \"\"\"Calculate the constant Fourier coefficient by integration\"\"\"\n",
    "        answer, error = quad(self.function, -tau/2., tau/2., args=(tau,))\n",
    "        return (1./self.tau) * answer\n",
    "    \n",
    "    def an_integrand(self, t, n):\n",
    "        \"\"\"Integrand for the nth cosine coefficient\"\"\"\n",
    "        return self.function(t, tau) * np.cos(n * self.omega * t)\n",
    "    \n",
    "    def an_calc(self, n):\n",
    "        \"\"\"Calculate the nth cosine coefficient (n > 0)\"\"\"\n",
    "        # note comma after n in args\n",
    "        answer, error = quad(self.an_integrand, -tau/2., tau/2., args=(n,))  \n",
    "        return (2./self.tau) * answer\n",
    "    \n",
    "    def bn_integrand(self, t, n):\n",
    "        \"\"\"Integrand for the nth cosine coefficient\"\"\"\n",
    "        return self.function(t, tau) * np.sin(n * self.omega * t)\n",
    "    \n",
    "    def bn_calc(self, n):\n",
    "        \"\"\"Calculate the nth cosine coefficient (n > 0)\"\"\"\n",
    "        answer, error = quad(self.bn_integrand, -tau/2., tau/2., args=(n,))  \n",
    "        return (2./self.tau) * answer\n",
    "        \n",
    "    def coeffs_upto_Nmax(self):\n",
    "        \"\"\"Calculate the Fourier series up to Nmax\"\"\"\n",
    "        # first generate the coefficient\n",
    "        coeffs_array = [(self.a0_calc(), 0)]   # a_0 and b_0\n",
    "        \n",
    "        for n in np.arange(1, N_max, 1):\n",
    "            a_n = self.an_calc(n)\n",
    "            b_n = self.bn_calc(n)\n",
    "            coeffs_array.append((a_n, b_n))  # append a tuple of coefficients\n",
    "    \n",
    "        return np.array(coeffs_array)  # convert to a numpy array  \n",
    "    "
   ]
  },
  {
   "cell_type": "markdown",
   "metadata": {},
   "source": [
    "Finally, we need a function that can take as input an array of t values and an array of Fourier coefficients and return the function at those t values with terms up to order N_max. "
   ]
  },
  {
   "cell_type": "code",
   "execution_count": 5,
   "metadata": {},
   "outputs": [],
   "source": [
    "\n",
    "def Fourier_reconstruct(t_pts, coeffs_array, tau, N_max):\n",
    "    \"\"\"Sum up the Fourier series up to n = N_max terms.\"\"\"\n",
    "    omega = 2. * np.pi / tau   # definition of omega\n",
    "    result = 0.\n",
    "    # iterate over coefficients but only up to N_max\n",
    "    for n, (a,b) in enumerate(coeffs_array[:N_max+1]):  \n",
    "        result = result + a * np.cos(n * omega * t_pts) \\\n",
    "                        + b * np.sin(n * omega * t_pts)\n",
    "    return result    "
   ]
  },
  {
   "cell_type": "markdown",
   "metadata": {},
   "source": [
    "## Example 5.4\n",
    "\n",
    "Ok, now we can do Example 5.4.  Calculate the coefficients both ways."
   ]
  },
  {
   "cell_type": "code",
   "execution_count": 6,
   "metadata": {},
   "outputs": [],
   "source": [
    "N_max = 20\n",
    "tau = 1.\n",
    "f_max = 1.\n",
    "Delta_tau = 0.25\n",
    "coeffs_by_hand = rectangular_coeffs_by_hand(N_max, tau, Delta_tau, f_max)\n",
    "\n",
    "fs = FourierSeries(rectangular, tau, N_max)\n",
    "coeffs_by_quad = fs.coeffs_upto_Nmax()"
   ]
  },
  {
   "cell_type": "markdown",
   "metadata": {},
   "source": [
    "Let's check that the exact and numerical calculation of the coefficients agree.  \n",
    "\n",
    "(Note the space in the formats below, e.g., `{a1: .6f}`.  This means to leave an extra space for a positive number so that it aligns at the decimal point with negative numbers.)"
   ]
  },
  {
   "cell_type": "code",
   "execution_count": 11,
   "metadata": {},
   "outputs": [
    {
     "name": "stdout",
     "output_type": "stream",
     "text": [
      " n   a_exact     a_quad      b_exact     b_quad\n",
      " 0   0.250000   0.250000     0.000000   0.000000\n",
      " 1   0.450158   0.450158     0.000000   0.000000\n",
      " 2   0.318310   0.318310     0.000000   0.000000\n",
      " 3   0.150053   0.150053     0.000000   0.000000\n",
      " 4   0.000000   0.000000     0.000000   0.000000\n",
      " 5  -0.090032  -0.090032     0.000000   0.000000\n",
      " 6  -0.106103  -0.106103     0.000000   0.000000\n",
      " 7  -0.064308  -0.064308     0.000000   0.000000\n",
      " 8  -0.000000   0.000000     0.000000   0.000000\n",
      " 9   0.050018   0.050018     0.000000   0.000000\n",
      "10   0.063662   0.063662     0.000000   0.000000\n",
      "11   0.040923   0.040923     0.000000   0.000000\n",
      "12   0.000000   0.000000     0.000000   0.000000\n",
      "13  -0.034628  -0.034628     0.000000   0.000000\n",
      "14  -0.045473  -0.045473     0.000000   0.000000\n",
      "15  -0.030011  -0.030011     0.000000   0.000000\n",
      "16  -0.000000   0.000000     0.000000   0.000000\n",
      "17   0.026480   0.026480     0.000000   0.000000\n",
      "18   0.035368   0.035368     0.000000   0.000000\n",
      "19   0.023693   0.023693     0.000000   0.000000\n"
     ]
    }
   ],
   "source": [
    "print(' n   a_exact     a_quad      b_exact     b_quad')\n",
    "for n, ((a1,b1), (a2,b2)) in enumerate(zip(coeffs_by_hand, coeffs_by_quad)):\n",
    "    print(f'{n:2d}  {a1: .6f}  {a2: .6f}    {b1: .6f}  {b2: .6f}')\n",
    "\n",
    "# Lists don't need to be indexed in order to be zipped!"
   ]
  },
  {
   "cell_type": "markdown",
   "metadata": {},
   "source": [
    "Make the comparison plot requested: N_max = 2 vs. N_max = 6."
   ]
  },
  {
   "cell_type": "code",
   "execution_count": 14,
   "metadata": {},
   "outputs": [],
   "source": [
    "t_pts = np.arange(-2., 4., .01)\n",
    "f_pts_2 = Fourier_reconstruct(t_pts, coeffs_by_hand, tau, 2)\n",
    "f_pts_6 = Fourier_reconstruct(t_pts, coeffs_by_hand, tau, 50)\n",
    "\n",
    "# Python way to evaluate the rectangular function at an array of points:\n",
    "#   * np.array creates a numpy array;\n",
    "#   * note the []s around the inner statement;\n",
    "#   * rectangular(t) for t in t_pts  \n",
    "#       means step through each element of t_pts, call it t, and\n",
    "#       evaluate rectangular at that t.\n",
    "#   * This is called a list comprehension.  There are more compact ways,\n",
    "#      but this is clear and easy to debug.\n",
    "rectangular_t_pts = np.array([rectangular(t, tau, Delta_tau, f_max) \\\n",
    "                              for t in t_pts])"
   ]
  },
  {
   "cell_type": "code",
   "execution_count": 15,
   "metadata": {},
   "outputs": [
    {
     "data": {
      "image/png": "[encoded data removed]",
      "text/plain": [
       "<Figure size 720x360 with 2 Axes>"
      ]
     },
     "metadata": {
      "needs_background": "light"
     },
     "output_type": "display_data"
    }
   ],
   "source": [
    "# It looks like we should define a function for the axis!\n",
    "\n",
    "fig_1 = plt.figure(figsize=(10,5))\n",
    "\n",
    "ax_1 = fig_1.add_subplot(1,2,1)\n",
    "ax_1.plot(t_pts, f_pts_2, label='N = 2', color='blue')\n",
    "ax_1.plot(t_pts, rectangular_t_pts, label='exact', color='red')\n",
    "ax_1.set_xlim(-1.1,4.1)\n",
    "ax_1.set_xlabel('t')\n",
    "ax_1.set_ylabel('f(t)')\n",
    "ax_1.set_title('N = 2')\n",
    "ax_1.legend()\n",
    "\n",
    "ax_2 = fig_1.add_subplot(1,2,2)\n",
    "ax_2.plot(t_pts, f_pts_6, label='N = 6', color='blue')\n",
    "ax_2.plot(t_pts, rectangular_t_pts, label='exact', color='red')\n",
    "ax_2.set_xlim(-1.1,4.1)\n",
    "ax_2.set_xlabel('t')\n",
    "ax_2.set_ylabel('f(t)')\n",
    "ax_2.set_title('N = 6')\n",
    "ax_2.legend();\n",
    "\n",
    "fig_1.tight_layout()\n",
    "fig_1.savefig('example_5.4.png')"
   ]
  },
  {
   "cell_type": "markdown",
   "metadata": {},
   "source": [
    "## Example 5.5"
   ]
  },
  {
   "cell_type": "markdown",
   "metadata": {},
   "source": [
    "We consider a driven oscillator with an even driving force so only cosine terms are non-zero in the Fourier transform of $f(t)$.  Linearity of the equation then means that the solution takes the form\n",
    "\n",
    "$\\begin{align}\n",
    "  x(t) = \\sum_{n=0}^{\\infty} A_n \\cos(n\\omega t - \\delta_n) \\;,\n",
    "\\end{align}$\n",
    "\n",
    "where\n",
    "\n",
    "$\\begin{align}\n",
    "  A_n &= \\frac{f_n}{\\sqrt{(\\omega_0^2 - n^2 \\omega^2)^2 + 4\\beta^2 n^2 \\omega^2}}  \\\\\n",
    "  \\delta_n &= \\arctan\\left(\\frac{2\\beta n\\omega}{\\omega_0^2 - n^2 \\omega^2}  \\right)\n",
    "\\end{align}$\n"
   ]
  },
  {
   "cell_type": "markdown",
   "metadata": {},
   "source": [
    "For Example 5.5 we apply this to the rectangular driving force, so we can use the coefficients from Example 5.4, which play the role of the $f_n$ coefficients here."
   ]
  },
  {
   "cell_type": "code",
   "execution_count": 16,
   "metadata": {},
   "outputs": [],
   "source": [
    "def driven_coefficients(tau_0, tau, beta, coeffs):\n",
    "    \"\"\"Calculate the coefficients A_n and delta_n for a driven oscillator.\"\"\"\n",
    "    omega_0 = 2. * np.pi / tau_0\n",
    "    omega = 2. * np.pi / tau\n",
    "    \n",
    "    A_n = []\n",
    "    delta_n = []\n",
    "    \n",
    "    # the second entry in the tuple is called dummy because it is not used\n",
    "    for n, (f_n, dummy) in enumerate(coeffs):\n",
    "        A_n.append(f_n / np.sqrt((omega_0**2 - n**2 * omega**2)**2 + \n",
    "                                  (2. * beta * n *omega)**2))\n",
    "        delta_n.append(np.arctan2(2. * beta * n *omega, \n",
    "                                  omega_0**2 - n**2 * omega**2 ))  \n",
    "    return np.array(A_n), np.array(delta_n)\n",
    "    \n",
    "def x_drive(t_pts, tau_0, tau, beta, N_max, coeffs): \n",
    "    \"\"\"Sum up the Fourier series for x(t) up to n = N_max terms.\"\"\"\n",
    "    omega = 2. * np.pi / tau\n",
    "    A_n_array, delta_n_array = driven_coefficients(tau_0, tau, beta, coeffs) \n",
    "    \n",
    "    result = 0.\n",
    "    # iterate over coefficients but only up to N_max\n",
    "    for n, (A_n, delta_n) in enumerate(zip(A_n_array[:N_max+1], \n",
    "                                           delta_n_array[:N_max+1])): \n",
    "        result = result + A_n * np.cos( n * omega * t_pts - delta_n)\n",
    "    return result    "
   ]
  },
  {
   "cell_type": "markdown",
   "metadata": {},
   "source": [
    "Ok, let's do Example 5.5!  "
   ]
  },
  {
   "cell_type": "code",
   "execution_count": 17,
   "metadata": {},
   "outputs": [],
   "source": [
    "N_max = 20\n",
    "tau = 1.\n",
    "f_max = 1.\n",
    "Delta_tau = 0.25\n",
    "coeffs_by_hand = rectangular_coeffs_by_hand(N_max, tau, Delta_tau, f_max)\n"
   ]
  },
  {
   "cell_type": "code",
   "execution_count": 24,
   "metadata": {},
   "outputs": [],
   "source": [
    "t_pts = np.arange(0., 7., .01)\n",
    "\n",
    "# first set of parameters\n",
    "N_max = 20\n",
    "f_max = 1.\n",
    "Delta_tau = 0.25\n",
    "tau = 1.\n",
    "coeffs_by_hand_1 = rectangular_coeffs_by_hand(N_max, tau, Delta_tau, f_max)\n",
    "\n",
    "tau_0_1 = 1.\n",
    "beta = 0.2\n",
    "A_n_array_1, delta_n_array_1 = driven_coefficients(tau_0_1, tau, beta, \n",
    "                                                   coeffs_by_hand_1) \n",
    "x_pts_1 = x_drive(t_pts, tau_0_1, tau, beta, N_max, coeffs_by_hand_1)\n",
    "\n",
    "\n",
    "# now only tau is varied\n",
    "tau = 1.5\n",
    "coeffs_by_hand_2 = rectangular_coeffs_by_hand(N_max, tau, Delta_tau, f_max)\n",
    "\n",
    "tau_0_2 = 1.\n",
    "beta = 0.2\n",
    "A_n_array_2, delta_n_array_2 = driven_coefficients(tau_0_2, tau, beta, \n",
    "                                                   coeffs_by_hand_2) \n",
    "x_pts_2 = x_drive(t_pts, tau_0_2, tau, beta, N_max, coeffs_by_hand_2)\n",
    "\n",
    "\n",
    "\n",
    "# now only tau is varied\n",
    "tau = 2.0\n",
    "coeffs_by_hand_3 = rectangular_coeffs_by_hand(N_max, tau, Delta_tau, f_max)\n",
    "\n",
    "tau_0_3 = 1.\n",
    "beta = 0.2\n",
    "A_n_array_3, delta_n_array_3 = driven_coefficients(tau_0_3, tau, beta, \n",
    "                                                   coeffs_by_hand_3) \n",
    "x_pts_3 = x_drive(t_pts, tau_0_3, tau, beta, N_max, coeffs_by_hand_3)\n",
    "\n",
    "\n",
    "\n",
    "# now only tau is varied\n",
    "tau = 2.5\n",
    "coeffs_by_hand_4 = rectangular_coeffs_by_hand(N_max, tau, Delta_tau, f_max)\n",
    "\n",
    "tau_0_4 = 1.\n",
    "beta = 0.2\n",
    "A_n_array_4, delta_n_array_4 = driven_coefficients(tau_0_4, tau, beta, \n",
    "                                                   coeffs_by_hand_4) \n",
    "x_pts_4 = x_drive(t_pts, tau_0_4, tau, beta, N_max, coeffs_by_hand_4)\n"
   ]
  },
  {
   "cell_type": "markdown",
   "metadata": {},
   "source": [
    "How would you code the last cell differently so that you could just give an array of $\\tau$ values?"
   ]
  },
  {
   "cell_type": "markdown",
   "metadata": {},
   "source": [
    "Compare coefficients for the cases from parts 1 to 4: large $A_n$ coefficients when that component is in resonance."
   ]
  },
  {
   "cell_type": "code",
   "execution_count": 25,
   "metadata": {},
   "outputs": [
    {
     "name": "stdout",
     "output_type": "stream",
     "text": [
      " n      case 1        case 2        case 3        case 4\n",
      " 0    0.00633257    0.00422172    0.00316629    0.00253303\n",
      " 1    0.17911224    0.01447102    0.00822068    0.00592958\n",
      " 2    0.00268521    0.00892472    0.08955612    0.01303477\n",
      " 3    0.00047497    0.00179014    0.00396133    0.00973767\n",
      " 4    0.00000000    0.00057109    0.00134261    0.00245255\n",
      " 5   -0.00009501    0.00015945    0.00056729    0.00107408\n",
      " 6   -0.00007678    0.00000000    0.00023749    0.00053672\n",
      " 7   -0.00003393   -0.00005543    0.00007835    0.00027238\n",
      " 8   -0.00000000   -0.00006360    0.00000000    0.00012820\n",
      " 9    0.00001584   -0.00005119   -0.00003562    0.00004629\n",
      "10    0.00001629   -0.00003214   -0.00004751    0.00000000\n",
      "11    0.00000864   -0.00001389   -0.00004630   -0.00002467\n",
      "12    0.00000000   -0.00000000   -0.00003839   -0.00003583\n",
      "13   -0.00000522    0.00000837   -0.00002778   -0.00003854\n",
      "14   -0.00000591    0.00001158   -0.00001697   -0.00003608\n",
      "15   -0.00000339    0.00001086   -0.00000745   -0.00003071\n",
      "16   -0.00000000    0.00000774   -0.00000000   -0.00002399\n",
      "17    0.00000233    0.00000372    0.00000509   -0.00001696\n",
      "18    0.00000277    0.00000000    0.00000792   -0.00001036\n",
      "19    0.00000167   -0.00000266    0.00000879   -0.00000462\n"
     ]
    }
   ],
   "source": [
    "print(' n      case 1        case 2        case 3        case 4')\n",
    "for n, (A_n_1, A_n_2, A_n_3, A_n_4) in enumerate(zip(A_n_array_1, A_n_array_2, \n",
    "                                                     A_n_array_3, A_n_array_4)):\n",
    "    print(f'{n:2d}   {A_n_1: .8f}   {A_n_2: .8f}   {A_n_3: .8f}   {A_n_4: .8f}')"
   ]
  },
  {
   "cell_type": "markdown",
   "metadata": {},
   "source": [
    "Now for the graphs in Figure 5.25:"
   ]
  },
  {
   "cell_type": "code",
   "execution_count": 26,
   "metadata": {},
   "outputs": [
    {
     "data": {
      "image/png": "[encoded data removed]",
      "text/plain": [
       "<Figure size 720x360 with 4 Axes>"
      ]
     },
     "metadata": {
      "needs_background": "light"
     },
     "output_type": "display_data"
    }
   ],
   "source": [
    "fig_2 = plt.figure(figsize=(10,5))\n",
    "\n",
    "ax_1 = fig_2.add_subplot(2,2,1)\n",
    "ax_1.plot(t_pts, x_pts_1, color='blue')\n",
    "ax_1.set_xlim(0., 7.)\n",
    "ax_1.set_ylim(-0.2, 0.2)\n",
    "ax_1.set_xlabel('t')\n",
    "ax_1.set_ylabel('x(t)')\n",
    "ax_1.set_title(r'case (1): $\\tau = 1$')\n",
    "\n",
    "ax_2 = fig_2.add_subplot(2,2,2)\n",
    "ax_2.plot(t_pts, x_pts_2, color='blue')\n",
    "ax_2.set_xlim(0., 7.)\n",
    "ax_2.set_ylim(-0.2, 0.2)\n",
    "ax_2.set_xlabel('t')\n",
    "ax_2.set_ylabel('x(t)')\n",
    "ax_2.set_title(r'case (2): $\\tau = 1.5$')\n",
    "\n",
    "ax_3 = fig_2.add_subplot(2,2,3)\n",
    "ax_3.plot(t_pts, x_pts_3, color='blue')\n",
    "ax_3.set_xlim(0., 7.)\n",
    "ax_3.set_ylim(-0.2, 0.2)\n",
    "ax_3.set_xlabel('t')\n",
    "ax_3.set_ylabel('x(t)')\n",
    "ax_3.set_title(r'case (3): $\\tau = 2.0$')\n",
    "\n",
    "ax_4 = fig_2.add_subplot(2,2,4)\n",
    "ax_4.plot(t_pts, x_pts_4, color='blue')\n",
    "ax_4.set_xlim(0., 7.)\n",
    "ax_4.set_ylim(-0.2, 0.2)\n",
    "ax_4.set_xlabel('t')\n",
    "ax_4.set_ylabel('x(t)')\n",
    "ax_4.set_title(r'case (4): $\\tau = 2.5$')\n",
    "\n",
    "fig_2.tight_layout()\n",
    "fig_2.savefig('Example_.png')"
   ]
  },
  {
   "cell_type": "markdown",
   "metadata": {},
   "source": [
    "To add additional graphs with more $\\tau$ values, we should really define a function that produces the plot given a $\\tau$."
   ]
  },
  {
   "cell_type": "code",
   "execution_count": null,
   "metadata": {},
   "outputs": [],
   "source": []
  }
 ],
 "metadata": {
  "kernelspec": {
   "display_name": "Python 3",
   "language": "python",
   "name": "python3"
  },
  "language_info": {
   "codemirror_mode": {
    "name": "ipython",
    "version": 3
   },
   "file_extension": ".py",
   "mimetype": "text/x-python",
   "name": "python",
   "nbconvert_exporter": "python",
   "pygments_lexer": "ipython3",
   "version": "3.7.2"
  }
 },
 "nbformat": 4,
 "nbformat_minor": 2
}
