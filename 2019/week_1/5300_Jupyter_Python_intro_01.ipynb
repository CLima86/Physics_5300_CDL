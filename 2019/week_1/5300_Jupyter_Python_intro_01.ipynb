{
 "cells": [
  {
   "cell_type": "markdown",
   "metadata": {},
   "source": [
    "# Python and Jupyter notebooks: part 01\n",
    "\n",
    "Last revised: 07-Jan-2019 by Dick Furnstahl [furnstahl.1@osu.edu]"
   ]
  },
  {
   "cell_type": "markdown",
   "metadata": {},
   "source": [
    "This is a whirlwind tool of just the minimum we need to know about Python and Jupyter notebooks to get started doing mechanics problems.  We'll add more features and details as we proceed.\n",
    "\n",
    "A Jupyter notebook is displayed on a web browser on a computer, tablet (e.g., IPad), or even your smartphone.  The notebook is divided into *cells*, of which two types are relevant for us:\n",
    "* Markdown cells: These have headings, text, and mathematical formulas in $\\LaTeX$ using a simple form of HTML called markdown.\n",
    "* Code cells: These have Python code (or other languages, but we'll stick to Python).\n",
    "\n",
    "Either type of cell can be selected with your cursor and will be highlighted in color when active.  You evaluate an active cell with shift-return (as with Mathematica) or by pressing `Run` on the toolbar.  Some notes:\n",
    "* When a new cell is inserted, by default it is a Code cell and will have `In []:` in front.  You can type Python expressions or entire programs in a cell.  How you break up code between cells is your choice and you can always put Markdown cells in between.  When you evaluate a cell it gets the next number, e.g., `In [5]:`.\n",
    "* On the menu bar is a pulldown menu that lets you change back and forth between Code and Markdown cells.  Once you evaluate a Markdown cell, it gets formatted (and has a blue border).  To edit the Markdown cell, double click in it. \n",
    "\n",
    "**Try double-clicking on this cell and then shift-return.**  You will see that a bullet list is created just with an asterisk and a space at the beginning of lines (without the space you get *italics* and with two asterisks you get **bold**).  **Double click on the title header above and you'll see it starts with a single #.**  Headings of subsections are made using ## or ###.  See this [Markdown cheatsheet](https://github.com/adam-p/markdown-here/wiki/Markdown-Cheatsheet) for a quick tour of the Markdown language (including how to add links!).\n",
    "\n",
    "**Now try turning the next (empty) cell to a Markdown cell and type:** `Einstein says $E=mc^2$` **and then evaluate it.**  This is $\\LaTeX$! (If you forget to convert to Markdown and get `SyntaxError: invalid syntax`, just select the cell and convert to Markdown with the menu.)"
   ]
  },
  {
   "cell_type": "code",
   "execution_count": null,
   "metadata": {},
   "outputs": [],
   "source": []
  },
  {
   "cell_type": "markdown",
   "metadata": {},
   "source": [
    "The menus enable you to rename your notebook file (always ending in `.ipynb`) or `Save and Checkpoint` to save the changes to your notebook.  You can insert and delete cells (use the up and down arrows in the toolbar to easily move cells).  You will often use the `Kernel` menu to `Restart` the notebook (and possibly clear output)."
   ]
  },
  {
   "cell_type": "markdown",
   "metadata": {},
   "source": [
    "## Ok, time to try out Python expressions and numpy\n",
    "\n",
    "We can use the Jupyter notebook as a super calculator much like Mathematica and Matlab.  **Try some basic operations, modifying and evaluating the following cells, noting that exponentiation is with** `**` **and not** `^`."
   ]
  },
  {
   "cell_type": "code",
   "execution_count": 1,
   "metadata": {},
   "outputs": [
    {
     "data": {
      "text/plain": [
       "2"
      ]
     },
     "execution_count": 1,
     "metadata": {},
     "output_type": "execute_result"
    }
   ],
   "source": [
    " 1 + 1  # Everything after a number sign / pound sign / hashtag) \n",
    "        #  is a comment"
   ]
  },
  {
   "cell_type": "code",
   "execution_count": 2,
   "metadata": {},
   "outputs": [
    {
     "data": {
      "text/plain": [
       "15.081600000000002"
      ]
     },
     "execution_count": 2,
     "metadata": {},
     "output_type": "execute_result"
    }
   ],
   "source": [
    "3.2 * 4.713"
   ]
  },
  {
   "cell_type": "markdown",
   "metadata": {},
   "source": [
    "Note that if we want a floating point number (which will be the same as a `double` in C++), we *always* include a decimal point (even when we don't have to) while a number without a decimal point is an integer."
   ]
  },
  {
   "cell_type": "code",
   "execution_count": 3,
   "metadata": {},
   "outputs": [
    {
     "data": {
      "text/plain": [
       "9.0"
      ]
     },
     "execution_count": 3,
     "metadata": {},
     "output_type": "execute_result"
    }
   ],
   "source": [
    "3.**2"
   ]
  },
  {
   "cell_type": "markdown",
   "metadata": {},
   "source": [
    "We can define integer, floating point, and string variables, perform operations on them, and print them.  Note that we don't have to predefine the type of a variable and we can use underscores in the names (unlike Mathematica).  **Evaluate the following cells and then try your own versions.** "
   ]
  },
  {
   "cell_type": "code",
   "execution_count": 4,
   "metadata": {
    "scrolled": true
   },
   "outputs": [
    {
     "name": "stdout",
     "output_type": "stream",
     "text": [
      "5.0\n"
     ]
    },
    {
     "data": {
      "text/plain": [
       "5.0"
      ]
     },
     "execution_count": 4,
     "metadata": {},
     "output_type": "execute_result"
    }
   ],
   "source": [
    "x = 5.\n",
    "print(x)\n",
    "x   # If the last line of a cell returns a value, it is printed."
   ]
  },
  {
   "cell_type": "code",
   "execution_count": 5,
   "metadata": {},
   "outputs": [
    {
     "name": "stdout",
     "output_type": "stream",
     "text": [
      "y =  72.0\n",
      "y = 72\n",
      "y = 72.00\n"
     ]
    }
   ],
   "source": [
    "y = 3.*x**2 - 2.*x + 7.\n",
    "print('y = ', y)           # Strings delimited by ' 's\n",
    "print(f'y = {y:.0f}')      # Just a preview: more on format later \n",
    "print(f'y = {y:.2f}')      #  (note that this uses the \"new\" fstring)"
   ]
  },
  {
   "cell_type": "code",
   "execution_count": 6,
   "metadata": {},
   "outputs": [
    {
     "name": "stdout",
     "output_type": "stream",
     "text": [
      "Dick Furnstahl\n"
     ]
    }
   ],
   "source": [
    "first_name = 'Dick'     # Strings delimited by ' 's\n",
    "last_name = 'Furnstahl'\n",
    "full_name = first_name + ' ' + last_name  # you can concatenate strings \n",
    "print(full_name)"
   ]
  },
  {
   "cell_type": "markdown",
   "metadata": {},
   "source": [
    "Ok, how about square roots and trigonometric functions and ..."
   ]
  },
  {
   "cell_type": "code",
   "execution_count": 7,
   "metadata": {},
   "outputs": [
    {
     "ename": "NameError",
     "evalue": "name 'sqrt' is not defined",
     "output_type": "error",
     "traceback": [
      "\u001b[0;31m---------------------------------------------------------------------------\u001b[0m",
      "\u001b[0;31mNameError\u001b[0m                                 Traceback (most recent call last)",
      "\u001b[0;32m<ipython-input-7-66e338417901>\u001b[0m in \u001b[0;36m<module>\u001b[0;34m\u001b[0m\n\u001b[0;32m----> 1\u001b[0;31m \u001b[0msqrt\u001b[0m\u001b[0;34m(\u001b[0m\u001b[0;36m2\u001b[0m\u001b[0;34m)\u001b[0m\u001b[0;34m\u001b[0m\u001b[0;34m\u001b[0m\u001b[0m\n\u001b[0m",
      "\u001b[0;31mNameError\u001b[0m: name 'sqrt' is not defined"
     ]
    }
   ],
   "source": [
    "sqrt(2)"
   ]
  },
  {
   "cell_type": "code",
   "execution_count": null,
   "metadata": {},
   "outputs": [],
   "source": [
    "sin(pi)"
   ]
  },
  {
   "cell_type": "markdown",
   "metadata": {},
   "source": [
    "We need to `import` these functions through the numpy library. There are other choices, but numpy works with the arrays we will use.  Note: *Never* use `from numpy import *` instead of `import numpy as np`.  Here `np` is just a abbreviation for numpy (which we can choose to be anything, but `np` is conventional)."
   ]
  },
  {
   "cell_type": "code",
   "execution_count": null,
   "metadata": {},
   "outputs": [],
   "source": [
    "import numpy as np"
   ]
  },
  {
   "cell_type": "code",
   "execution_count": null,
   "metadata": {},
   "outputs": [],
   "source": [
    "print(np.cos(0.))"
   ]
  },
  {
   "cell_type": "markdown",
   "metadata": {},
   "source": [
    "Now functions and constants like `np.sqrt` and `np.pi` will work.  Go back and fix the square root and sine."
   ]
  },
  {
   "cell_type": "markdown",
   "metadata": {},
   "source": [
    "### Debugging aside . . .\n",
    "\n",
    "Suppose you try to import and it fails (**go ahead and evaluate the cell**):"
   ]
  },
  {
   "cell_type": "code",
   "execution_count": null,
   "metadata": {},
   "outputs": [],
   "source": [
    "import numpie"
   ]
  },
  {
   "cell_type": "markdown",
   "metadata": {},
   "source": [
    "When you get a `ModuleNotFoundError`, the first thing to check is whether you have misspelled the name. Try using Google, e.g., search for \"python numpie\". In this case (and in most others), Google will suggest the correct name (here it is numpy).  If the name does exist, check whether it sounds like the package you wanted.\n",
    "\n",
    "If you have the correct spelling, check whether you have installed the relevant package.  If you installed Python with Anaconda (which we will assume you did -- if not, do it!), then use `conda list`, e.g., `conda list numpy` in a Terminal window (on a Mac or Linux box) or in an Anaconda Prompt window (on a Windows PC)."
   ]
  },
  {
   "cell_type": "markdown",
   "metadata": {},
   "source": [
    "### numpy arrays\n",
    "\n",
    "At first, we will most often use numpy arrays so we'll start with those.  They are *like* lists delimited by square brackets, i.e., `[]`s, and we will construct them with `np.arange(min, max, step)` to get an array from `min` to `max` in steps of `step`. Examples:"
   ]
  },
  {
   "cell_type": "code",
   "execution_count": null,
   "metadata": {
    "scrolled": true
   },
   "outputs": [],
   "source": [
    "t_pts = np.arange(0., 10., .1)\n",
    "t_pts"
   ]
  },
  {
   "cell_type": "markdown",
   "metadata": {},
   "source": [
    "If we give a numpy array to a function, each term in the list is evaluated with that function:"
   ]
  },
  {
   "cell_type": "code",
   "execution_count": null,
   "metadata": {},
   "outputs": [],
   "source": [
    "x = np.arange(1., 5., 1.)\n",
    "print(x)\n",
    "print(x**2)\n",
    "print(np.sqrt(x))"
   ]
  },
  {
   "cell_type": "markdown",
   "metadata": {},
   "source": [
    "We can pick out elements of the list.  Why does the last one fail? "
   ]
  },
  {
   "cell_type": "code",
   "execution_count": null,
   "metadata": {},
   "outputs": [],
   "source": [
    "print(x[0])\n",
    "print(x[3])\n",
    "print(x[4])"
   ]
  },
  {
   "cell_type": "markdown",
   "metadata": {},
   "source": [
    "## Getting help\n",
    "\n",
    "You will often need help identifying the appropriate Python (or numpy or scipy or ...) command or you will need an example of how to do something or you may get an error message you can't figure out.  In all of these cases, Google (or equivalent) is your friend. Always include \"python\" in the search string (or \"numpy\" or \"matplotlib\" or ...) to avoid getting results for a different language. You will usually get an online manual as one of the first responses if you ask about a function; these usually have examples if you scroll down. Otherwise, answers from *Stack Overflow* queries are your best bet to find a useful answer."
   ]
  },
  {
   "cell_type": "markdown",
   "metadata": {},
   "source": [
    "## Functions\n",
    "\n",
    "There are many Python language features that we will use eventually, but in the short term what we need first are functions.  Here we first see the role of *indentation* in Python in place of {}s or ()s in other languages.  We'll always indent four spaces (never tabs!).  We know a function definition is complete when the indentation stops. \n",
    "\n",
    "To find out about a Python function or one you define, put your cursor on the function name and hit shift+Tab+Tab. **Go back and try it on `np.arange`.**  "
   ]
  },
  {
   "cell_type": "code",
   "execution_count": 8,
   "metadata": {},
   "outputs": [
    {
     "name": "stdout",
     "output_type": "stream",
     "text": [
      "25.0\n"
     ]
    },
    {
     "ename": "NameError",
     "evalue": "name 'np' is not defined",
     "output_type": "error",
     "traceback": [
      "\u001b[0;31m---------------------------------------------------------------------------\u001b[0m",
      "\u001b[0;31mNameError\u001b[0m                                 Traceback (most recent call last)",
      "\u001b[0;32m<ipython-input-8-6ac249ebfbdf>\u001b[0m in \u001b[0;36m<module>\u001b[0;34m\u001b[0m\n\u001b[1;32m     12\u001b[0m \u001b[0;34m\u001b[0m\u001b[0m\n\u001b[1;32m     13\u001b[0m \u001b[0;31m# We can pass an array to the function and it is evaluated term-by-term.\u001b[0m\u001b[0;34m\u001b[0m\u001b[0;34m\u001b[0m\u001b[0;34m\u001b[0m\u001b[0m\n\u001b[0;32m---> 14\u001b[0;31m \u001b[0mx_pts\u001b[0m \u001b[0;34m=\u001b[0m \u001b[0mnp\u001b[0m\u001b[0;34m.\u001b[0m\u001b[0marange\u001b[0m\u001b[0;34m(\u001b[0m\u001b[0;36m1.\u001b[0m\u001b[0;34m,\u001b[0m\u001b[0;36m10.\u001b[0m\u001b[0;34m,\u001b[0m\u001b[0;36m1.\u001b[0m\u001b[0;34m)\u001b[0m\u001b[0;34m\u001b[0m\u001b[0;34m\u001b[0m\u001b[0m\n\u001b[0m\u001b[1;32m     15\u001b[0m \u001b[0mprint\u001b[0m\u001b[0;34m(\u001b[0m\u001b[0mmy_function\u001b[0m\u001b[0;34m(\u001b[0m\u001b[0mx_pts\u001b[0m\u001b[0;34m)\u001b[0m\u001b[0;34m)\u001b[0m\u001b[0;34m\u001b[0m\u001b[0;34m\u001b[0m\u001b[0m\n",
      "\u001b[0;31mNameError\u001b[0m: name 'np' is not defined"
     ]
    }
   ],
   "source": [
    "# Use \"def\" to create new functions.  \n",
    "#  Note the colon and indentation (4 spaces).\n",
    "def my_function(x):\n",
    "    \"\"\"This function squares the input.  Always include a brief description\n",
    "        at the top between three starting and three ending quotes.  We will\n",
    "        talk more about proper documentation later.\n",
    "        Try shift+Tab+Tab after you have evaluated this function.\n",
    "    \"\"\"\n",
    "    return x**2\n",
    "\n",
    "print(my_function(5.))\n",
    "\n",
    "# We can pass an array to the function and it is evaluated term-by-term.\n",
    "x_pts = np.arange(1.,10.,1.)\n",
    "print(my_function(x_pts))"
   ]
  },
  {
   "cell_type": "code",
   "execution_count": 9,
   "metadata": {
    "scrolled": true
   },
   "outputs": [
    {
     "name": "stdout",
     "output_type": "stream",
     "text": [
      "x is 5 and y is 6\n",
      "The sum is  11\n",
      "x is 5 and y is 6\n"
     ]
    },
    {
     "data": {
      "text/plain": [
       "11"
      ]
     },
     "execution_count": 9,
     "metadata": {},
     "output_type": "execute_result"
    }
   ],
   "source": [
    "# Two variables, with a default for the second\n",
    "def add(x, y=4.):\n",
    "    \"\"\"Add two numbers.\"\"\"\n",
    "    print(\"x is {} and y is {}\".format(x, y))\n",
    "    return x + y  # Return values with a return statement\n",
    "\n",
    "# Calling functions with parameters\n",
    "print('The sum is ', add(5, 6))  # => prints out \"x is 5 and y is 6\" and returns 11\n",
    "\n",
    "# Another way to call functions is with keyword arguments\n",
    "add(y=6, x=5)  # Keyword arguments can arrive in any order.\n"
   ]
  },
  {
   "cell_type": "markdown",
   "metadata": {},
   "source": [
    "How do you explain the following result?"
   ]
  },
  {
   "cell_type": "code",
   "execution_count": 10,
   "metadata": {},
   "outputs": [
    {
     "name": "stdout",
     "output_type": "stream",
     "text": [
      "x is 2 and y is 4.0\n"
     ]
    },
    {
     "data": {
      "text/plain": [
       "6.0"
      ]
     },
     "execution_count": 10,
     "metadata": {},
     "output_type": "execute_result"
    }
   ],
   "source": [
    "add(2)"
   ]
  },
  {
   "cell_type": "markdown",
   "metadata": {},
   "source": [
    "### Debugging aside . . .\n",
    "\n",
    "There are two bugs in the following function.  **Note the line where an error is first reported and fix the bugs sequentially (so you see the different error messages).**"
   ]
  },
  {
   "cell_type": "code",
   "execution_count": 11,
   "metadata": {},
   "outputs": [
    {
     "ename": "SyntaxError",
     "evalue": "invalid syntax (<ipython-input-11-da90ff702907>, line 1)",
     "output_type": "error",
     "traceback": [
      "\u001b[0;36m  File \u001b[0;32m\"<ipython-input-11-da90ff702907>\"\u001b[0;36m, line \u001b[0;32m1\u001b[0m\n\u001b[0;31m    def hello_function()\u001b[0m\n\u001b[0m                        ^\u001b[0m\n\u001b[0;31mSyntaxError\u001b[0m\u001b[0;31m:\u001b[0m invalid syntax\n"
     ]
    }
   ],
   "source": [
    "def hello_function()\n",
    "    msg = \"hello, world!\"\n",
    "    print(msg)\n",
    "     return msg"
   ]
  },
  {
   "cell_type": "markdown",
   "metadata": {},
   "source": [
    "## Plotting with Matplotlib\n",
    "\n",
    "Matplotlib is the plotting library we'll use, at least at first.  We'll follow convention and abbreviate the module we need as `plt`.  The `%matplotlib inline` line tells the Jupyter notebook to make inline plots (we'll see other possibilities later)."
   ]
  },
  {
   "cell_type": "code",
   "execution_count": 12,
   "metadata": {},
   "outputs": [],
   "source": [
    "%matplotlib inline\n",
    "\n",
    "import numpy as np\n",
    "import matplotlib.pyplot as plt"
   ]
  },
  {
   "cell_type": "markdown",
   "metadata": {},
   "source": [
    "Procedure we'll use to make the skeleton plot:\n",
    "0. Generate some data to plot in the form of arrays.\n",
    "1. Create a figure;\n",
    "2. add one or more subplots;\n",
    "3. make a plot and display it."
   ]
  },
  {
   "cell_type": "code",
   "execution_count": 13,
   "metadata": {},
   "outputs": [
    {
     "data": {
      "text/plain": [
       "[<matplotlib.lines.Line2D at 0x11a91aeb8>]"
      ]
     },
     "execution_count": 13,
     "metadata": {},
     "output_type": "execute_result"
    },
    {
     "data": {
      "image/png": "[encoded data removed]",
      "text/plain": [
       "<Figure size 432x288 with 1 Axes>"
      ]
     },
     "metadata": {
      "needs_background": "light"
     },
     "output_type": "display_data"
    }
   ],
   "source": [
    "t_pts = np.arange(0., 10., .1)     # step 0.\n",
    "x_pts = np.sin(t_pts)  # More often this would be from a function \n",
    "                       #  *we* write.\n",
    "\n",
    "my_fig = plt.figure()              # step 1.\n",
    "my_ax = my_fig.add_subplot(1,1,1)  # step 2: rows=1, cols=1, 1st subplot\n",
    "my_ax.plot(t_pts, x_pts)           # step 3: plot x vs. t"
   ]
  },
  {
   "cell_type": "markdown",
   "metadata": {},
   "source": [
    "NOTE: When making just a single plot, you will more usually see steps 1 to 3 compressed into `plt.plot(t_pts, np.sin(t_pts))`.  Don't do this.  It saves a couple of lines but restricts your ability to easily extend the plot, which is what we want to make easy."
   ]
  },
  {
   "cell_type": "markdown",
   "metadata": {},
   "source": [
    "We can always go back and dress up the plot:"
   ]
  },
  {
   "cell_type": "code",
   "execution_count": 14,
   "metadata": {},
   "outputs": [
    {
     "data": {
      "image/png": "[encoded data removed]",
      "text/plain": [
       "<Figure size 432x288 with 1 Axes>"
      ]
     },
     "metadata": {
      "needs_background": "light"
     },
     "output_type": "display_data"
    }
   ],
   "source": [
    "my_fig = plt.figure()\n",
    "my_ax = my_fig.add_subplot(1,1,1)  # nrows=1, ncols=1, first plot\n",
    "my_ax.plot(t_pts, x_pts, color='blue', linestyle='--', label='sine')\n",
    "\n",
    "my_ax.set_xlabel('t')\n",
    "my_ax.set_ylabel(r'$\\sin(t)$')  # here $s to get LaTeX and r to render it\n",
    "my_ax.set_title('Sine wave')\n",
    "\n",
    "# here we'll put the function in the call to plot!\n",
    "my_ax.plot(t_pts, np.cos(t_pts), label='cosine')  # just label the plot\n",
    "\n",
    "my_ax.legend();  # turn on legend\n"
   ]
  },
  {
   "cell_type": "markdown",
   "metadata": {},
   "source": [
    "Now make two subplots:"
   ]
  },
  {
   "cell_type": "code",
   "execution_count": 15,
   "metadata": {},
   "outputs": [
    {
     "data": {
      "image/png": "[encoded data removed]",
      "text/plain": [
       "<Figure size 720x360 with 2 Axes>"
      ]
     },
     "metadata": {
      "needs_background": "light"
     },
     "output_type": "display_data"
    }
   ],
   "source": [
    "y_pts = np.exp(t_pts)         # another function for a separate plot\n",
    "\n",
    "fig = plt.figure(figsize=(10,5))  # allow more room for two subplots\n",
    "\n",
    "# call the first axis ax1\n",
    "ax1 = fig.add_subplot(1,2,1)  # one row, two columns, first plot\n",
    "ax1.plot(t_pts, x_pts, color='blue', linestyle='--', label='sine')\n",
    "ax1.plot(t_pts, np.cos(t_pts), label='cosine')  # just label the plot\n",
    "ax1.legend()\n",
    "\n",
    "ax2 = fig.add_subplot(1,2,2)  # one row, two columns, second plot\n",
    "ax2.plot(t_pts, np.exp(t_pts), label='exponential')  \n",
    "ax2.legend();\n"
   ]
  },
  {
   "cell_type": "markdown",
   "metadata": {},
   "source": [
    "## Solving ordinary differential equations (ODEs)\n",
    "\n",
    "Newton's 2nd Law for one particle:\n",
    "\n",
    "$\\begin{align}\n",
    "  \\mathbf{F} = m\\mathbf{a} = m\\frac{d\\mathbf{v}}{dt} = m\\frac{d^2\\mathbf{x}}{dt^2}\n",
    "\\end{align}$ \n",
    "\n",
    "is a first-order differential equation in the velocity vector and a second-order differential equation in the position vector. Here we assume that $\\mathbf{F} = \\mathbf{F}(\\mathbf{x}, \\mathbf{v}, t)$ does not have higher derivatives. So we need to know how to solve such differential equations, usually with initial conditions (as opposed to boundary conditions). \n",
    "\n",
    "Here is how to do it with the Scipy function `odeint`.  (Note that `solve_ivp` is now preferred to `odeint`; we'll switch to that later.)"
   ]
  },
  {
   "cell_type": "markdown",
   "metadata": {},
   "source": [
    "### First-order ODE"
   ]
  },
  {
   "cell_type": "code",
   "execution_count": 16,
   "metadata": {},
   "outputs": [],
   "source": [
    "# Import the required modules\n",
    "import numpy as np\n",
    "import matplotlib.pyplot as plt\n",
    "\n",
    "from scipy.integrate import odeint  # Get only odeint from scipy.integrate\n",
    "# for the future:\n",
    "from scipy.integrate import solve_ivp   # Now preferred to odeint"
   ]
  },
  {
   "cell_type": "markdown",
   "metadata": {},
   "source": [
    "Let's try a one-dimensional first-order ODE, say:\n",
    "\n",
    "$\\begin{align}\n",
    "\\quad \n",
    "\\frac{dv}{dt} = -g, \\quad \\mbox{with} \\quad v(0) = 10\n",
    "\\end{align}$\n",
    "\n",
    "in some appropriate units (we'll use MKS units by default).  This ODE can be separated and directly integrated:\n",
    "\n",
    "$\\begin{align}\n",
    "  \\int_{v_0=10}^{v} dv' = - g \\int_{0}^{t} dt'\n",
    "  \\quad\\Longrightarrow\\quad\n",
    "    v - v_0 = - g (t - 0)\n",
    "  \\quad\\Longrightarrow\\quad\n",
    "   v(t) = 10 - gt\n",
    "\\end{align}$\n",
    "\n"
   ]
  },
  {
   "cell_type": "code",
   "execution_count": 17,
   "metadata": {},
   "outputs": [],
   "source": [
    "# Define a function which calculates the derivative\n",
    "def dv_dt(v, t, g=9.8):\n",
    "    \"\"\"Returns the right side of a simple first-order ODE with default g.\"\"\"\n",
    "    return -g   \n",
    "\n",
    "t_pts = np.linspace(0., 10., 100)     # 100 points between t=0 and t=10.\n",
    "v_0 = 10.0  # the initial condition\n",
    "v_pts = odeint(dv_dt, v_0, t_pts)  # odeint( function for rhs, \n",
    "                                   #         initial value of v(t),\n",
    "                                   #         array of t values )\n"
   ]
  },
  {
   "cell_type": "markdown",
   "metadata": {},
   "source": [
    "Let's check the output $v(t)$.  Does it make sense?"
   ]
  },
  {
   "cell_type": "code",
   "execution_count": 18,
   "metadata": {},
   "outputs": [
    {
     "data": {
      "text/plain": [
       "(100, 1)"
      ]
     },
     "execution_count": 18,
     "metadata": {},
     "output_type": "execute_result"
    }
   ],
   "source": [
    "v_pts[0:10]\n",
    "v_pts.shape"
   ]
  },
  {
   "cell_type": "markdown",
   "metadata": {},
   "source": [
    "Now plot $v(t)$ calculated numerically and the analytic solution:"
   ]
  },
  {
   "cell_type": "code",
   "execution_count": 19,
   "metadata": {},
   "outputs": [
    {
     "data": {
      "image/png": "[encoded data removed]",
      "text/plain": [
       "<Figure size 432x288 with 2 Axes>"
      ]
     },
     "metadata": {
      "needs_background": "light"
     },
     "output_type": "display_data"
    }
   ],
   "source": [
    "g = 9.8\n",
    "v_pts_exact = v_0 - g*t_pts\n",
    "\n",
    "fig = plt.figure()\n",
    "\n",
    "ax = fig.add_subplot(1,2,1)\n",
    "ax.plot(t_pts, v_pts, label='numerical', color='blue', lw=4)\n",
    "ax.plot(t_pts, v_pts_exact, label='exact', color='red')\n",
    "ax.set_xlabel('t [sec]')\n",
    "ax.set_ylabel('v(t) [meters/sec]')\n",
    "ax.legend();\n",
    "\n",
    "diff = v_pts_exact - v_pts.flatten()\n",
    "ax2 = fig.add_subplot(1,2,2)\n",
    "ax2.semilogy(t_pts, diff, label='difference', color='red')\n",
    "ax2.set_xlabel('t [sec]')\n",
    "ax2.set_ylabel('v(t) [meters/sec]')\n",
    "ax2.legend();\n",
    "\n",
    "fig.tight_layout()"
   ]
  },
  {
   "cell_type": "markdown",
   "metadata": {},
   "source": [
    "We adjusted the colors and linewidths so you could see that the lines are on top of each other."
   ]
  },
  {
   "cell_type": "markdown",
   "metadata": {},
   "source": [
    "Try solving instead:\n",
    "\n",
    "$\\begin{align}\n",
    "\\quad \n",
    "\\frac{dx}{dt} = -x \\quad \\mbox{with} \\quad x(0) = 1\n",
    "\\end{align}$\n",
    "\n",
    "both analytically and numerically."
   ]
  },
  {
   "cell_type": "markdown",
   "metadata": {},
   "source": [
    "### Second-order ODE"
   ]
  },
  {
   "cell_type": "markdown",
   "metadata": {},
   "source": [
    "Suppose we have a second-order ODE such as:\n",
    "\n",
    "$$\n",
    "\\quad y'' + 2 y' + 2 y = \\cos(2x), \\quad \\quad y(0) = 0, \\; y'(0) = 0\n",
    "$$\n",
    "\n",
    "We can turn this into two first-order equations by defining a new dependent variable. For example,\n",
    "\n",
    "$$\n",
    "\\quad z \\equiv y' \\quad \\Rightarrow \\quad z' + 2 z + 2y = \\cos(2x), \\quad z(0)=y(0) = 0.\n",
    "$$\n",
    "\n",
    "Now introduce the vector \n",
    "\n",
    "$$\n",
    "  \\mathbf{U}(x) = \\left(\\begin{array}{c}\n",
    "                         y(x) \\\\\n",
    "                         z(x)\n",
    "                        \\end{array}\n",
    "                  \\right)\n",
    "        \\quad\\Longrightarrow\\quad\n",
    "    \\frac{d\\mathbf{U}}{dx} = \\left(\\begin{array}{c}\n",
    "                                    z \\\\\n",
    "                                    -2 y' - 2 y + \\cos(2x)\n",
    "                                   \\end{array}\n",
    "                             \\right) \n",
    "$$\n",
    "\n",
    "We can solve this system of ODEs using `odeint` with lists, as follows:"
   ]
  },
  {
   "cell_type": "code",
   "execution_count": 20,
   "metadata": {},
   "outputs": [],
   "source": [
    "# Define a function for the right side\n",
    "def dU_dx(U, x):\n",
    "    \"\"\"Right side of the differential equation to be solved.\n",
    "    U is a two-component vector with y=U[0] and z=U[1]. \n",
    "    Thus this function should return [y', z']\n",
    "    \"\"\"\n",
    "    return [U[1], -2*U[1] - 2*U[0] + np.cos(2*x)]\n",
    "\n",
    "# initial condition U_0 = [y(0)=0, z(0)=y'(0)=0]\n",
    "U_0 = [0., 0.]\n",
    "\n",
    "x_pts = np.linspace(0, 15, 200)  # Set up the mesh of x points\n",
    "U_pts = odeint(dU_dx, U_0, x_pts)  # U_pts is a 2-dimensional array\n",
    "y_pts = U_pts[:,0]   # Ok, this is tricky.  For each x, U_pts has two \n",
    "                     #  components.  We want the upper component for all\n",
    "                     #  x, which is y(x).  The : means all of the first \n",
    "                     #  index, which is x, and the 0 means the first\n",
    "                     #  component in the other dimension."
   ]
  },
  {
   "cell_type": "code",
   "execution_count": 21,
   "metadata": {},
   "outputs": [
    {
     "data": {
      "text/plain": [
       "Text(0, 0.5, 'y')"
      ]
     },
     "execution_count": 21,
     "metadata": {},
     "output_type": "execute_result"
    },
    {
     "data": {
      "image/png": "[encoded data removed]",
      "text/plain": [
       "<Figure size 432x288 with 1 Axes>"
      ]
     },
     "metadata": {
      "needs_background": "light"
     },
     "output_type": "display_data"
    }
   ],
   "source": [
    "fig = plt.figure()\n",
    "ax = fig.add_subplot(1,1,1)\n",
    "ax.plot(x_pts, y_pts)\n",
    "ax.set_xlabel('x')\n",
    "ax.set_ylabel('y')"
   ]
  },
  {
   "cell_type": "markdown",
   "metadata": {},
   "source": [
    "## Widgets!\n",
    "\n",
    "A widget is an object such as a slider or a check box or a pulldown menu.  We can use them to make it easy to explore different parameter values in a problem we're solving, which is invaluable for building intuition.  They act on the argument of a function.  We'll look at a simple case here but plan to explore this much more as we proceed.\n",
    "\n",
    "The set of widgets we'll use here (there are others!) is from `ipywidgets`; we'll conventionally import the module as `import ipywidgets as widgets` and we'll also often use `display` from `Ipython.display`."
   ]
  },
  {
   "cell_type": "code",
   "execution_count": 22,
   "metadata": {},
   "outputs": [],
   "source": [
    "import numpy as np\n",
    "import matplotlib.pyplot as plt\n",
    "\n",
    "import ipywidgets as widgets\n",
    "from IPython.display import display\n",
    "\n",
    "%matplotlib inline"
   ]
  },
  {
   "cell_type": "markdown",
   "metadata": {},
   "source": [
    "The simplest form is to use `interact`, which we pass a function name and the variables with ranges.  By default this makes a *slider*, which takes on integer or floating point values depending on whether you put decimal points in the range. **Try it! Then modify the function and try again.**"
   ]
  },
  {
   "cell_type": "code",
   "execution_count": 23,
   "metadata": {},
   "outputs": [
    {
     "data": {
      "application/vnd.jupyter.widget-view+json": {
       "model_id": "32569affa9a34b29888b997b38450b4b",
       "version_major": 2,
       "version_minor": 0
      },
      "text/plain": [
       "interactive(children=(FloatSlider(value=5.0, description='x', max=10.0), Output()), _dom_classes=('widget-inte…"
      ]
     },
     "metadata": {},
     "output_type": "display_data"
    }
   ],
   "source": [
    "# We can do this to any function\n",
    "def test_f(x=5.):\n",
    "    \"\"\"Test function that prints the passed value and its square.\n",
    "       Note that there is no return value in this case.\"\"\"\n",
    "    print ('x = ', x, ' and  x^2 = ', x**2)\n",
    "    \n",
    "widgets.interact(test_f, x=(0.,10.));"
   ]
  },
  {
   "cell_type": "code",
   "execution_count": 24,
   "metadata": {},
   "outputs": [
    {
     "data": {
      "application/vnd.jupyter.widget-view+json": {
       "model_id": "c20f4ef295104977a77779385d6d6d9f",
       "version_major": 2,
       "version_minor": 0
      },
      "text/plain": [
       "interactive(children=(FloatSlider(value=10.0, description='x', max=30.0, min=-10.0, step=1.0), Output()), _dom…"
      ]
     },
     "metadata": {},
     "output_type": "display_data"
    }
   ],
   "source": [
    "# Explicit declaration of the widget (here FloatSlider) and details\n",
    "def test_f(x=5.):\n",
    "    \"\"\"Test function that prints the passed value and its square.\n",
    "       Note that there is no return value in this case.\"\"\"\n",
    "    print ('x = ', x, ' and  x^2 = ', x**2)\n",
    "    \n",
    "widgets.interact(test_f, \n",
    "                 x = widgets.FloatSlider(min=-10,max=30,step=1,value=10));"
   ]
  },
  {
   "cell_type": "markdown",
   "metadata": {},
   "source": [
    "Here's an example with some bells and whistles for a plot.  **Try making changes!**"
   ]
  },
  {
   "cell_type": "code",
   "execution_count": 25,
   "metadata": {},
   "outputs": [
    {
     "data": {
      "application/vnd.jupyter.widget-view+json": {
       "model_id": "638ea23ae14849088843615874ba1020",
       "version_major": 2,
       "version_minor": 0
      },
      "text/plain": [
       "interactive(children=(FloatSlider(value=1.0, description='freq', max=2.0, min=0.1), Dropdown(description='colo…"
      ]
     },
     "metadata": {},
     "output_type": "display_data"
    },
    {
     "data": {
      "text/plain": [
       "<function __main__.plot_it(freq=1.0, color='blue', lw=2, grid=True, xlabel='x', function='sin')>"
      ]
     },
     "execution_count": 25,
     "metadata": {},
     "output_type": "execute_result"
    }
   ],
   "source": [
    "def plot_it(freq=1., color='blue', lw=2, grid=True, xlabel='x', \n",
    "            function='sin'):\n",
    "    \"\"\" Make a simple plot of a trig function but allow the plot style\n",
    "        to be changed as well as the function and frequency.\"\"\"\n",
    "    t = np.linspace(-1., +1., 1000)  # linspace(min, max, total #)\n",
    "\n",
    "    fig = plt.figure(figsize=(8,6))\n",
    "    ax = fig.add_subplot(1,1,1)\n",
    "\n",
    "    if function=='sin':\n",
    "        ax.plot(t, np.sin(2*np.pi*freq*t), lw=lw, color=color)\n",
    "    elif function=='cos':\n",
    "        ax.plot(t, np.cos(2*np.pi*freq*t), lw=lw, color=color)\n",
    "    elif function=='tan':\n",
    "        ax.plot(t, np.tan(2*np.pi*freq*t), lw=lw, color=color)\n",
    "\n",
    "    ax.grid(grid)\n",
    "    ax.set_xlabel(xlabel)\n",
    "    \n",
    "widgets.interact(plot_it, \n",
    "                 freq=(0.1, 2.), color=['blue', 'red', 'green'], \n",
    "                 lw=(1, 10), xlabel=['x', 't', 'dog'],\n",
    "                 function=['sin', 'cos', 'tan'])\n",
    "    "
   ]
  },
  {
   "cell_type": "code",
   "execution_count": null,
   "metadata": {},
   "outputs": [],
   "source": []
  },
  {
   "cell_type": "code",
   "execution_count": null,
   "metadata": {},
   "outputs": [],
   "source": []
  },
  {
   "cell_type": "code",
   "execution_count": null,
   "metadata": {},
   "outputs": [],
   "source": []
  }
 ],
 "metadata": {
  "kernelspec": {
   "display_name": "Python 3",
   "language": "python",
   "name": "python3"
  },
  "language_info": {
   "codemirror_mode": {
    "name": "ipython",
    "version": 3
   },
   "file_extension": ".py",
   "mimetype": "text/x-python",
   "name": "python",
   "nbconvert_exporter": "python",
   "pygments_lexer": "ipython3",
   "version": "3.6.8"
  }
 },
 "nbformat": 4,
 "nbformat_minor": 2
}
