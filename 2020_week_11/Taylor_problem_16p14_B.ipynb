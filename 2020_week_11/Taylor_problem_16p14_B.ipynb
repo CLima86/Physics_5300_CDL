{
 "cells": [
  {
   "cell_type": "markdown",
   "metadata": {},
   "source": [
    "# Taylor Problem 16.14 version B\n",
    "\n",
    "We'll plot at various times a wave $u(x,t)$ that is defined by its initial shape at $t=0$ from $x=0$ to $x=L$, using a Fourier sine series to write the result at a general time t: \n",
    "\n",
    "$\\begin{align}\n",
    "  u(x,t) = \\sum_{n=1}^{\\infty} B_n \\sin(k_n x)\\cos(\\omega_n t)\n",
    "  \\;,\n",
    "\\end{align}$\n",
    "\n",
    "with $k_n = n\\pi/L$ and $\\omega_n = k_n c$, where $c$ is the wave speed.   Here the coefficients are given by\n",
    "\n",
    "$\\begin{align}\n",
    "  B_n = \\frac{2}{L}\\int_0^L u(x,0) \\sin\\frac{n\\pi x}{L} \\, dx\n",
    "  \\;.\n",
    "\\end{align}$\n",
    "\n",
    "* Created 28-Mar-2019. Last revised 04-Apr-2019 by Dick Furnstahl (furnstahl.1@osu.edu).\n",
    "* This version sums over all n integers, even and odd."
   ]
  },
  {
   "cell_type": "code",
   "execution_count": 3,
   "metadata": {},
   "outputs": [],
   "source": [
    "%matplotlib inline"
   ]
  },
  {
   "cell_type": "code",
   "execution_count": 4,
   "metadata": {},
   "outputs": [],
   "source": [
    "import numpy as np\n",
    "import matplotlib.pyplot as plt\n",
    "\n",
    "from matplotlib import animation, rc\n",
    "from IPython.display import HTML"
   ]
  },
  {
   "cell_type": "markdown",
   "metadata": {},
   "source": [
    "First define functions for the $t=0$ wave function form (here a triangle) and for the subsequent shape at any time $t$ based on the wave speed `c_wave`."
   ]
  },
  {
   "cell_type": "code",
   "execution_count": 5,
   "metadata": {},
   "outputs": [],
   "source": [
    "class uTriangular():\n",
    "    \"\"\"\n",
    "      documentation\n",
    "    \"\"\"\n",
    "    def __init__(self, x_pts, num_terms=20, c_wave=1., L=1.):\n",
    "        self.x_pts = x_pts\n",
    "        self.num_terms = num_terms\n",
    "        self.c = c_wave\n",
    "        self.L = L\n",
    "        \n",
    "    def B_coeff(self, n):\n",
    "        \"\"\"Fourier coefficient for the nth term in the expansion, which is only \n",
    "            non-zero if n is odd, or n = 2*m + 1.\n",
    "        \"\"\"\n",
    "        if n % 2 == 1:   # n is odd\n",
    "            m = (n - 1)/2\n",
    "            return (-1)**m * 8. / (n * np.pi)**2 \n",
    "        else:  # n is even\n",
    "            return 0.\n",
    "        \n",
    "    def k(self, n):\n",
    "        \"\"\"Wave number for n \n",
    "        \"\"\"\n",
    "        return n * np.pi / self.L\n",
    "    \n",
    "    def u_wave(self, t):\n",
    "        \"\"\"Returns the wave from the sum of Fourier components.  \n",
    "        \"\"\"\n",
    "        y_pts = np.zeros(len(self.x_pts))  # define y_pts as the same size as x_pts\n",
    "        for n in np.arange(0, self.num_terms):  \n",
    "            y_pts += self.B_coeff(n) * np.sin(self.k(n) * self.x_pts) \\\n",
    "                      * np.cos(self.k(n) * self.c * t) \n",
    "        return y_pts"
   ]
  },
  {
   "cell_type": "code",
   "execution_count": null,
   "metadata": {},
   "outputs": [],
   "source": []
  },
  {
   "cell_type": "code",
   "execution_count": null,
   "metadata": {},
   "outputs": [],
   "source": []
  },
  {
   "cell_type": "code",
   "execution_count": null,
   "metadata": {},
   "outputs": [],
   "source": []
  },
  {
   "cell_type": "markdown",
   "metadata": {},
   "source": [
    "First look at the initial ($t=0$) wave form."
   ]
  },
  {
   "cell_type": "code",
   "execution_count": 6,
   "metadata": {},
   "outputs": [
    {
     "data": {
      "image/png": "[encoded data removed]",
      "text/plain": [
       "<Figure size 432x288 with 1 Axes>"
      ]
     },
     "metadata": {
      "needs_background": "light"
     },
     "output_type": "display_data"
    }
   ],
   "source": [
    "L = 1.\n",
    "num_n = 40\n",
    "c_wave = 1\n",
    "omega_1 = np.pi * c_wave / L\n",
    "tau = 2.*np.pi / omega_1\n",
    "\n",
    "# Set up the array of x points (whatever looks good)\n",
    "x_min = 0.\n",
    "x_max = L\n",
    "delta_x = 0.01\n",
    "x_pts = np.arange(x_min, x_max, delta_x)\n",
    "\n",
    "u_triangular_1 = uTriangular(x_pts, num_n, c_wave, L)\n",
    "u_triangular_2 = uTriangular(x_pts, num_n/8, c_wave, L)\n",
    "\n",
    "# Make a figure showing the initial wave.\n",
    "t_now = 0.\n",
    "\n",
    "fig = plt.figure(figsize=(6,4), num='Standing wave')\n",
    "ax = fig.add_subplot(1,1,1)\n",
    "ax.set_xlim(x_min, x_max)\n",
    "gap = 0.1\n",
    "ax.set_ylim(-1. - gap, 1. + gap)\n",
    "ax.set_xlabel(r'$x$')\n",
    "ax.set_ylabel(r'$u(x, t=0)$')\n",
    "ax.set_title(rf'$t = {t_now:.1f}$')\n",
    "\n",
    "line, = ax.plot(x_pts, \n",
    "                u_triangular_1.u_wave(t_now), \n",
    "                color='blue', lw=2)\n",
    "line2, = ax.plot(x_pts, \n",
    "                u_triangular_2.u_wave(t_now), \n",
    "                color='red', lw=2)\n",
    "\n",
    "fig.tight_layout()\n"
   ]
  },
  {
   "cell_type": "markdown",
   "metadata": {},
   "source": [
    "Next make some plots at an array of time points."
   ]
  },
  {
   "cell_type": "code",
   "execution_count": 10,
   "metadata": {},
   "outputs": [
    {
     "ename": "NameError",
     "evalue": "name 'u_triangular' is not defined",
     "output_type": "error",
     "traceback": [
      "\u001b[0;31m---------------------------------------------------------------------------\u001b[0m",
      "\u001b[0;31mNameError\u001b[0m                                 Traceback (most recent call last)",
      "\u001b[0;32m<ipython-input-10-77bd2f8b47f0>\u001b[0m in \u001b[0;36m<module>\u001b[0;34m()\u001b[0m\n\u001b[1;32m     13\u001b[0m \u001b[0;34m\u001b[0m\u001b[0m\n\u001b[1;32m     14\u001b[0m     ax_array.plot(x_pts, \n\u001b[0;32m---> 15\u001b[0;31m                   \u001b[0mu_triangular\u001b[0m\u001b[0;34m(\u001b[0m\u001b[0mx_pts\u001b[0m\u001b[0;34m,\u001b[0m \u001b[0mt_now\u001b[0m\u001b[0;34m,\u001b[0m \u001b[0mnum_n\u001b[0m\u001b[0;34m,\u001b[0m \u001b[0mc_wave\u001b[0m\u001b[0;34m,\u001b[0m \u001b[0mL\u001b[0m\u001b[0;34m)\u001b[0m\u001b[0;34m,\u001b[0m\u001b[0;34m\u001b[0m\u001b[0m\n\u001b[0m\u001b[1;32m     16\u001b[0m                   color='blue', lw=2)\n\u001b[1;32m     17\u001b[0m \u001b[0;34m\u001b[0m\u001b[0m\n",
      "\u001b[0;31mNameError\u001b[0m: name 'u_triangular' is not defined"
     ]
    },
    {
     "data": {
      "image/png": "[encoded data removed]",
      "text/plain": [
       "<Figure size 864x864 with 1 Axes>"
      ]
     },
     "metadata": {
      "needs_background": "light"
     },
     "output_type": "display_data"
    }
   ],
   "source": [
    "t_array = tau * np.arange(0., 1.125, .125)\n",
    "\n",
    "fig_array = plt.figure(figsize=(12,12), num='Standing wave')\n",
    "\n",
    "for i, t_now in enumerate(t_array): \n",
    "    ax_array = fig_array.add_subplot(3, 3, i+1)\n",
    "    ax_array.set_xlim(x_min, x_max)\n",
    "    gap = 0.1\n",
    "    ax_array.set_ylim(-1. - gap, 1. + gap)\n",
    "    ax_array.set_xlabel(r'$x$')\n",
    "    ax_array.set_ylabel(r'$u(x, t)$')\n",
    "    ax_array.set_title(rf'$t = {t_now/tau:.3f}\\tau$')\n",
    "\n",
    "    ax_array.plot(x_pts, \n",
    "                  u_triangular(x_pts, t_now, num_n, c_wave, L), \n",
    "                  color='blue', lw=2)\n",
    "\n",
    "fig_array.tight_layout()\n",
    "fig_array.savefig('Taylor_Problem_16p14.png', \n",
    "                   bbox_inches='tight')  "
   ]
  },
  {
   "cell_type": "markdown",
   "metadata": {},
   "source": [
    "Now it is time to animate!"
   ]
  },
  {
   "cell_type": "code",
   "execution_count": null,
   "metadata": {},
   "outputs": [],
   "source": [
    "# Set up the t mesh for the animation.  The maximum value of t shown in\n",
    "#  the movie will be t_min + delta_t * frame_number\n",
    "t_min = 0.   # You can make this negative to see what happens before t=0!\n",
    "t_max = 2.*tau\n",
    "delta_t = t_max / 100.\n",
    "t_pts = np.arange(t_min, t_max + delta_t, delta_t)"
   ]
  },
  {
   "cell_type": "markdown",
   "metadata": {},
   "source": [
    "We use the cell \"magic\" `%%capture` to keep the figure from being shown here.  If we didn't the animated version below would be blank."
   ]
  },
  {
   "cell_type": "code",
   "execution_count": null,
   "metadata": {},
   "outputs": [],
   "source": [
    "%%capture\n",
    "\n",
    "fig_anim = plt.figure(figsize=(6,3), num='Triangular wave')\n",
    "ax_anim = fig_anim.add_subplot(1,1,1)\n",
    "ax_anim.set_xlim(x_min, x_max)\n",
    "gap = 0.1\n",
    "ax_anim.set_ylim(-1. - gap, 1. + gap)\n",
    "\n",
    "# By assigning the first return from plot to line_anim, we can later change\n",
    "#  the values in the line.\n",
    "line_anim, = ax_anim.plot(x_pts, \n",
    "                          u_triangular(x_pts, t_min, num_n, c_wave, L), \n",
    "                          color='blue', lw=2)\n",
    "\n",
    "fig_anim.tight_layout()"
   ]
  },
  {
   "cell_type": "code",
   "execution_count": null,
   "metadata": {},
   "outputs": [],
   "source": [
    "def animate_wave(i):\n",
    "    \"\"\"This is the function called by FuncAnimation to create each frame,\n",
    "        numbered by i.  So each i corresponds to a point in the t_pts\n",
    "        array, with index i.\n",
    "    \"\"\"\n",
    "    t = t_pts[i]\n",
    "    y_pts = u_triangular(x_pts, t, num_n, c_wave, L) \n",
    "\n",
    "    line_anim.set_data(x_pts, y_pts)  # overwrite line_anim with new points\n",
    "    return (line_anim,)   # this is needed for blit=True to work"
   ]
  },
  {
   "cell_type": "code",
   "execution_count": null,
   "metadata": {},
   "outputs": [],
   "source": [
    "frame_interval = 80.  # time between frames\n",
    "frame_number = 101    # number of frames to include (index of t_pts)\n",
    "anim = animation.FuncAnimation(fig_anim, \n",
    "                               animate_wave, \n",
    "                               init_func=None,\n",
    "                               frames=frame_number, \n",
    "                               interval=frame_interval, \n",
    "                               blit=True,\n",
    "                               repeat=False)\n"
   ]
  },
  {
   "cell_type": "code",
   "execution_count": null,
   "metadata": {
    "scrolled": true
   },
   "outputs": [],
   "source": [
    "HTML(anim.to_jshtml())      # animate using javascript\n"
   ]
  },
  {
   "cell_type": "code",
   "execution_count": null,
   "metadata": {},
   "outputs": [],
   "source": []
  }
 ],
 "metadata": {
  "kernelspec": {
   "display_name": "Python 3",
   "language": "python",
   "name": "python3"
  },
  "language_info": {
   "codemirror_mode": {
    "name": "ipython",
    "version": 3
   },
   "file_extension": ".py",
   "mimetype": "text/x-python",
   "name": "python",
   "nbconvert_exporter": "python",
   "pygments_lexer": "ipython3",
   "version": "3.7.0"
  }
 },
 "nbformat": 4,
 "nbformat_minor": 2
}
